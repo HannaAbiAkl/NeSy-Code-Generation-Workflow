{
  "cells": [
    {
      "cell_type": "code",
      "execution_count": 20,
      "metadata": {
        "colab": {
          "base_uri": "https://localhost:8080/"
        },
        "id": "2lswlIshW5wX",
        "outputId": "97126cdf-b3e5-48ce-9c94-b1f23b282842"
      },
      "outputs": [
        {
          "output_type": "stream",
          "name": "stdout",
          "text": [
            "Data has been generated and saved to test.csv\n"
          ]
        }
      ],
      "source": [
        "# script created by LLM using symbolic composition rules to generate compatible data\n",
        "import random\n",
        "import csv\n",
        "\n",
        "# List of keywords in the C language\n",
        "keywords = ['auto', 'double', 'int', 'struct', 'break', 'else', 'long', 'switch', 'case', 'enum', 'register', 'typedef',\n",
        "            'char', 'extern', 'return', 'union', 'const', 'float', 'short', 'unsigned', 'continue', 'for', 'signed',\n",
        "            'void', 'default', 'goto', 'sizeof', 'volatile', 'do', 'if', 'static', 'while']\n",
        "\n",
        "# List of data types for variables\n",
        "data_types = ['char', 'int', 'float', 'double', 'void']\n",
        "\n",
        "# List of labels for comments\n",
        "comment_labels = ['Useful', 'Not Useful']\n",
        "\n",
        "# Function to generate a random valid identifier\n",
        "def generate_identifier():\n",
        "    first_char = random.choice('abcdefghijklmnopqrstuvwxyzABCDEFGHIJKLMNOPQRSTUVWXYZ_')\n",
        "    rest_chars = ''.join(random.choices('abcdefghijklmnopqrstuvwxyzABCDEFGHIJKLMNOPQRSTUVWXYZ0123456789_', k=random.randint(0, 10)))\n",
        "    return first_char + rest_chars\n",
        "\n",
        "# Function to generate a random valid line of code\n",
        "def generate_line_of_code():\n",
        "    keyword_or_data_type = random.choice(keywords + data_types)\n",
        "    identifier = generate_identifier()\n",
        "    value = random.choice(['', f' = {random.randint(0, 100)}'])\n",
        "    return f'{keyword_or_data_type} {identifier}{value};'\n",
        "\n",
        "# Function to generate a random comment\n",
        "def generate_comment():\n",
        "    level_of_detail = random.choice(['', ' // ' + ' '.join(generate_identifier() for _ in range(random.randint(1, 5)))])\n",
        "    return random.choice(['', '/* ' + generate_identifier() + ' */']) + level_of_detail\n",
        "\n",
        "# Function to generate a useful comment for a given line of code\n",
        "def generate_useful_comment(line_of_code):\n",
        "    purpose_keywords = ['Declaration', 'Initialization', 'Calculation', 'Function', 'Definition', 'Usage', 'Explanation']\n",
        "    variable_keywords = ['Variable', 'Value', 'Data', 'Result', 'Parameter']\n",
        "\n",
        "    purpose = random.choice(purpose_keywords)\n",
        "    variable = random.choice(variable_keywords)\n",
        "\n",
        "    return f'// {purpose} of {variable} in the line of code:\\n// {line_of_code}'\n",
        "\n",
        "# Function to generate a random label for a comment\n",
        "def generate_comment_label():\n",
        "    return random.choice(comment_labels)\n",
        "\n",
        "# Generate 5000 lines of code, comments, and labels\n",
        "data = []\n",
        "for _ in range(5000):\n",
        "    line_of_code = generate_line_of_code()\n",
        "    comment = generate_comment()\n",
        "    label = generate_comment_label()\n",
        "\n",
        "    # Ensure the comment is useful if labeled as Useful\n",
        "    if label == 'Useful':\n",
        "        comment = generate_useful_comment(line_of_code)\n",
        "\n",
        "    data.append((line_of_code, comment, label))\n",
        "\n",
        "# Function to write data to a CSV file\n",
        "def write_to_csv(file_path, data):\n",
        "    with open(file_path, mode='w', newline='') as csv_file:\n",
        "        fieldnames = ['Line of Code', 'Comment', 'Class']\n",
        "        writer = csv.DictWriter(csv_file, fieldnames=fieldnames)\n",
        "        writer.writeheader()\n",
        "        for row in data:\n",
        "            writer.writerow({'Line of Code': row[0], 'Comment': row[1], 'Class': row[2]})\n",
        "\n",
        "# Specify the file path\n",
        "csv_file_path = 'test.csv'\n",
        "\n",
        "# Write data to the CSV file\n",
        "write_to_csv(csv_file_path, data)\n",
        "\n",
        "print(f'Data has been generated and saved to {csv_file_path}')\n"
      ]
    },
    {
      "cell_type": "code",
      "source": [
        "import pandas as pd\n",
        "\n",
        "data = pd.read_csv('FIRE2023_IRSE_training_Code_Comment_Seed_Data.csv')\n",
        "data.head(5)"
      ],
      "metadata": {
        "colab": {
          "base_uri": "https://localhost:8080/",
          "height": 206
        },
        "id": "GYawv5u32X4H",
        "outputId": "649276a7-d5fa-4694-c129-cf7b997e52a2"
      },
      "execution_count": 21,
      "outputs": [
        {
          "output_type": "execute_result",
          "data": {
            "text/plain": [
              "       Comments                           Surrounding Code Context       Class\n",
              "0  /*test 529*/  -10.   int res = 0;\\n-9.   CURL *curl = NULL;\\...  Not Useful\n",
              "1  /*test 525*/  -2.     fprintf(stderr, \"Usage: lib529 [url] [...  Not Useful\n",
              "2      /*done*/  -10.   multi_add_handle(m, curl);\\n-9.   for(;...  Not Useful\n",
              "3  /*test 529*/  -10.   int res = 0;\\n-9.   CURL *curl = NULL;\\...  Not Useful\n",
              "4  /*test 525*/  -2.     fprintf(stderr, \"Usage: lib529 [url] [...  Not Useful"
            ],
            "text/html": [
              "\n",
              "  <div id=\"df-4ed173da-4371-40f7-8dcb-fe1f54db7ac3\" class=\"colab-df-container\">\n",
              "    <div>\n",
              "<style scoped>\n",
              "    .dataframe tbody tr th:only-of-type {\n",
              "        vertical-align: middle;\n",
              "    }\n",
              "\n",
              "    .dataframe tbody tr th {\n",
              "        vertical-align: top;\n",
              "    }\n",
              "\n",
              "    .dataframe thead th {\n",
              "        text-align: right;\n",
              "    }\n",
              "</style>\n",
              "<table border=\"1\" class=\"dataframe\">\n",
              "  <thead>\n",
              "    <tr style=\"text-align: right;\">\n",
              "      <th></th>\n",
              "      <th>Comments</th>\n",
              "      <th>Surrounding Code Context</th>\n",
              "      <th>Class</th>\n",
              "    </tr>\n",
              "  </thead>\n",
              "  <tbody>\n",
              "    <tr>\n",
              "      <th>0</th>\n",
              "      <td>/*test 529*/</td>\n",
              "      <td>-10.   int res = 0;\\n-9.   CURL *curl = NULL;\\...</td>\n",
              "      <td>Not Useful</td>\n",
              "    </tr>\n",
              "    <tr>\n",
              "      <th>1</th>\n",
              "      <td>/*test 525*/</td>\n",
              "      <td>-2.     fprintf(stderr, \"Usage: lib529 [url] [...</td>\n",
              "      <td>Not Useful</td>\n",
              "    </tr>\n",
              "    <tr>\n",
              "      <th>2</th>\n",
              "      <td>/*done*/</td>\n",
              "      <td>-10.   multi_add_handle(m, curl);\\n-9.   for(;...</td>\n",
              "      <td>Not Useful</td>\n",
              "    </tr>\n",
              "    <tr>\n",
              "      <th>3</th>\n",
              "      <td>/*test 529*/</td>\n",
              "      <td>-10.   int res = 0;\\n-9.   CURL *curl = NULL;\\...</td>\n",
              "      <td>Not Useful</td>\n",
              "    </tr>\n",
              "    <tr>\n",
              "      <th>4</th>\n",
              "      <td>/*test 525*/</td>\n",
              "      <td>-2.     fprintf(stderr, \"Usage: lib529 [url] [...</td>\n",
              "      <td>Not Useful</td>\n",
              "    </tr>\n",
              "  </tbody>\n",
              "</table>\n",
              "</div>\n",
              "    <div class=\"colab-df-buttons\">\n",
              "\n",
              "  <div class=\"colab-df-container\">\n",
              "    <button class=\"colab-df-convert\" onclick=\"convertToInteractive('df-4ed173da-4371-40f7-8dcb-fe1f54db7ac3')\"\n",
              "            title=\"Convert this dataframe to an interactive table.\"\n",
              "            style=\"display:none;\">\n",
              "\n",
              "  <svg xmlns=\"http://www.w3.org/2000/svg\" height=\"24px\" viewBox=\"0 -960 960 960\">\n",
              "    <path d=\"M120-120v-720h720v720H120Zm60-500h600v-160H180v160Zm220 220h160v-160H400v160Zm0 220h160v-160H400v160ZM180-400h160v-160H180v160Zm440 0h160v-160H620v160ZM180-180h160v-160H180v160Zm440 0h160v-160H620v160Z\"/>\n",
              "  </svg>\n",
              "    </button>\n",
              "\n",
              "  <style>\n",
              "    .colab-df-container {\n",
              "      display:flex;\n",
              "      gap: 12px;\n",
              "    }\n",
              "\n",
              "    .colab-df-convert {\n",
              "      background-color: #E8F0FE;\n",
              "      border: none;\n",
              "      border-radius: 50%;\n",
              "      cursor: pointer;\n",
              "      display: none;\n",
              "      fill: #1967D2;\n",
              "      height: 32px;\n",
              "      padding: 0 0 0 0;\n",
              "      width: 32px;\n",
              "    }\n",
              "\n",
              "    .colab-df-convert:hover {\n",
              "      background-color: #E2EBFA;\n",
              "      box-shadow: 0px 1px 2px rgba(60, 64, 67, 0.3), 0px 1px 3px 1px rgba(60, 64, 67, 0.15);\n",
              "      fill: #174EA6;\n",
              "    }\n",
              "\n",
              "    .colab-df-buttons div {\n",
              "      margin-bottom: 4px;\n",
              "    }\n",
              "\n",
              "    [theme=dark] .colab-df-convert {\n",
              "      background-color: #3B4455;\n",
              "      fill: #D2E3FC;\n",
              "    }\n",
              "\n",
              "    [theme=dark] .colab-df-convert:hover {\n",
              "      background-color: #434B5C;\n",
              "      box-shadow: 0px 1px 3px 1px rgba(0, 0, 0, 0.15);\n",
              "      filter: drop-shadow(0px 1px 2px rgba(0, 0, 0, 0.3));\n",
              "      fill: #FFFFFF;\n",
              "    }\n",
              "  </style>\n",
              "\n",
              "    <script>\n",
              "      const buttonEl =\n",
              "        document.querySelector('#df-4ed173da-4371-40f7-8dcb-fe1f54db7ac3 button.colab-df-convert');\n",
              "      buttonEl.style.display =\n",
              "        google.colab.kernel.accessAllowed ? 'block' : 'none';\n",
              "\n",
              "      async function convertToInteractive(key) {\n",
              "        const element = document.querySelector('#df-4ed173da-4371-40f7-8dcb-fe1f54db7ac3');\n",
              "        const dataTable =\n",
              "          await google.colab.kernel.invokeFunction('convertToInteractive',\n",
              "                                                    [key], {});\n",
              "        if (!dataTable) return;\n",
              "\n",
              "        const docLinkHtml = 'Like what you see? Visit the ' +\n",
              "          '<a target=\"_blank\" href=https://colab.research.google.com/notebooks/data_table.ipynb>data table notebook</a>'\n",
              "          + ' to learn more about interactive tables.';\n",
              "        element.innerHTML = '';\n",
              "        dataTable['output_type'] = 'display_data';\n",
              "        await google.colab.output.renderOutput(dataTable, element);\n",
              "        const docLink = document.createElement('div');\n",
              "        docLink.innerHTML = docLinkHtml;\n",
              "        element.appendChild(docLink);\n",
              "      }\n",
              "    </script>\n",
              "  </div>\n",
              "\n",
              "\n",
              "<div id=\"df-6eda8957-821f-4cc0-81ed-61a2c03345e9\">\n",
              "  <button class=\"colab-df-quickchart\" onclick=\"quickchart('df-6eda8957-821f-4cc0-81ed-61a2c03345e9')\"\n",
              "            title=\"Suggest charts\"\n",
              "            style=\"display:none;\">\n",
              "\n",
              "<svg xmlns=\"http://www.w3.org/2000/svg\" height=\"24px\"viewBox=\"0 0 24 24\"\n",
              "     width=\"24px\">\n",
              "    <g>\n",
              "        <path d=\"M19 3H5c-1.1 0-2 .9-2 2v14c0 1.1.9 2 2 2h14c1.1 0 2-.9 2-2V5c0-1.1-.9-2-2-2zM9 17H7v-7h2v7zm4 0h-2V7h2v10zm4 0h-2v-4h2v4z\"/>\n",
              "    </g>\n",
              "</svg>\n",
              "  </button>\n",
              "\n",
              "<style>\n",
              "  .colab-df-quickchart {\n",
              "      --bg-color: #E8F0FE;\n",
              "      --fill-color: #1967D2;\n",
              "      --hover-bg-color: #E2EBFA;\n",
              "      --hover-fill-color: #174EA6;\n",
              "      --disabled-fill-color: #AAA;\n",
              "      --disabled-bg-color: #DDD;\n",
              "  }\n",
              "\n",
              "  [theme=dark] .colab-df-quickchart {\n",
              "      --bg-color: #3B4455;\n",
              "      --fill-color: #D2E3FC;\n",
              "      --hover-bg-color: #434B5C;\n",
              "      --hover-fill-color: #FFFFFF;\n",
              "      --disabled-bg-color: #3B4455;\n",
              "      --disabled-fill-color: #666;\n",
              "  }\n",
              "\n",
              "  .colab-df-quickchart {\n",
              "    background-color: var(--bg-color);\n",
              "    border: none;\n",
              "    border-radius: 50%;\n",
              "    cursor: pointer;\n",
              "    display: none;\n",
              "    fill: var(--fill-color);\n",
              "    height: 32px;\n",
              "    padding: 0;\n",
              "    width: 32px;\n",
              "  }\n",
              "\n",
              "  .colab-df-quickchart:hover {\n",
              "    background-color: var(--hover-bg-color);\n",
              "    box-shadow: 0 1px 2px rgba(60, 64, 67, 0.3), 0 1px 3px 1px rgba(60, 64, 67, 0.15);\n",
              "    fill: var(--button-hover-fill-color);\n",
              "  }\n",
              "\n",
              "  .colab-df-quickchart-complete:disabled,\n",
              "  .colab-df-quickchart-complete:disabled:hover {\n",
              "    background-color: var(--disabled-bg-color);\n",
              "    fill: var(--disabled-fill-color);\n",
              "    box-shadow: none;\n",
              "  }\n",
              "\n",
              "  .colab-df-spinner {\n",
              "    border: 2px solid var(--fill-color);\n",
              "    border-color: transparent;\n",
              "    border-bottom-color: var(--fill-color);\n",
              "    animation:\n",
              "      spin 1s steps(1) infinite;\n",
              "  }\n",
              "\n",
              "  @keyframes spin {\n",
              "    0% {\n",
              "      border-color: transparent;\n",
              "      border-bottom-color: var(--fill-color);\n",
              "      border-left-color: var(--fill-color);\n",
              "    }\n",
              "    20% {\n",
              "      border-color: transparent;\n",
              "      border-left-color: var(--fill-color);\n",
              "      border-top-color: var(--fill-color);\n",
              "    }\n",
              "    30% {\n",
              "      border-color: transparent;\n",
              "      border-left-color: var(--fill-color);\n",
              "      border-top-color: var(--fill-color);\n",
              "      border-right-color: var(--fill-color);\n",
              "    }\n",
              "    40% {\n",
              "      border-color: transparent;\n",
              "      border-right-color: var(--fill-color);\n",
              "      border-top-color: var(--fill-color);\n",
              "    }\n",
              "    60% {\n",
              "      border-color: transparent;\n",
              "      border-right-color: var(--fill-color);\n",
              "    }\n",
              "    80% {\n",
              "      border-color: transparent;\n",
              "      border-right-color: var(--fill-color);\n",
              "      border-bottom-color: var(--fill-color);\n",
              "    }\n",
              "    90% {\n",
              "      border-color: transparent;\n",
              "      border-bottom-color: var(--fill-color);\n",
              "    }\n",
              "  }\n",
              "</style>\n",
              "\n",
              "  <script>\n",
              "    async function quickchart(key) {\n",
              "      const quickchartButtonEl =\n",
              "        document.querySelector('#' + key + ' button');\n",
              "      quickchartButtonEl.disabled = true;  // To prevent multiple clicks.\n",
              "      quickchartButtonEl.classList.add('colab-df-spinner');\n",
              "      try {\n",
              "        const charts = await google.colab.kernel.invokeFunction(\n",
              "            'suggestCharts', [key], {});\n",
              "      } catch (error) {\n",
              "        console.error('Error during call to suggestCharts:', error);\n",
              "      }\n",
              "      quickchartButtonEl.classList.remove('colab-df-spinner');\n",
              "      quickchartButtonEl.classList.add('colab-df-quickchart-complete');\n",
              "    }\n",
              "    (() => {\n",
              "      let quickchartButtonEl =\n",
              "        document.querySelector('#df-6eda8957-821f-4cc0-81ed-61a2c03345e9 button');\n",
              "      quickchartButtonEl.style.display =\n",
              "        google.colab.kernel.accessAllowed ? 'block' : 'none';\n",
              "    })();\n",
              "  </script>\n",
              "</div>\n",
              "    </div>\n",
              "  </div>\n"
            ],
            "application/vnd.google.colaboratory.intrinsic+json": {
              "type": "dataframe",
              "variable_name": "data",
              "summary": "{\n  \"name\": \"data\",\n  \"rows\": 11452,\n  \"fields\": [\n    {\n      \"column\": \"Comments\",\n      \"properties\": {\n        \"dtype\": \"string\",\n        \"samples\": [\n          \"/*we need an additional DG0-node for a dim-dimensional object*/\",\n          \"/*These *must* correspond to the array indices for the appropriate\\n   string variable.  (Though they're not used right now.)*/\",\n          \"/*Canonicalization cuts off any final slash present.  We\\n\\t\\t may need to add it back.*/\"\n        ],\n        \"num_unique_values\": 7107,\n        \"semantic_type\": \"\",\n        \"description\": \"\"\n      }\n    },\n    {\n      \"column\": \"Surrounding Code Context\",\n      \"properties\": {\n        \"dtype\": \"string\",\n        \"samples\": [\n          \"-10. {\\n-9. #if !defined (__DJGPP__)\\n-8.   if (on && _rl_term_ks)\\n-7.     tputs (_rl_term_ks, 1, _rl_output_character_function);\\n-6.   else if (!on && _rl_term_ke)\\n-5.     tputs (_rl_term_ke, 1, _rl_output_character_function);\\n-4. #endif\\n-3. }\\n\\n/*Controlli\",\n          \"-4.    if (png_ptr == NULL)\\n-3.       return;\\n-2.    png_debug(1, \\\"in png_write_image\\\");\\n-1. #ifdef PNG_WRITE_INTERLACING_SUPPORTED\\n   /* Initialize interlace handling.  If image is not interlaced,\\n    * this will set pass to 1\\n\\n /*Initialize interlace ha\",\n          \"-1. rl_hook_func_t *rl_pre_input_hook = (rl_hook_func_t *)NULL;\\n\\n /*What we use internally.  You should always refer to RL_LINE_BUFFER.*/\\n\\n1. static char *the_line;\"\n        ],\n        \"num_unique_values\": 7791,\n        \"semantic_type\": \"\",\n        \"description\": \"\"\n      }\n    },\n    {\n      \"column\": \"Class\",\n      \"properties\": {\n        \"dtype\": \"category\",\n        \"samples\": [\n          \"Useful\",\n          \"Not Useful\"\n        ],\n        \"num_unique_values\": 2,\n        \"semantic_type\": \"\",\n        \"description\": \"\"\n      }\n    }\n  ]\n}"
            }
          },
          "metadata": {},
          "execution_count": 21
        }
      ]
    },
    {
      "cell_type": "code",
      "source": [
        "# experiment 2: Try self-training with ChatGPT generated data\n",
        "chatgpt_data = pd.read_csv('chatgpt_generated_data.csv')\n",
        "chatgpt_data.head(5)"
      ],
      "metadata": {
        "id": "uRq9cNJdB9MG",
        "colab": {
          "base_uri": "https://localhost:8080/",
          "height": 206
        },
        "outputId": "a713dd89-d12c-4672-a524-fd014b625f72"
      },
      "execution_count": 22,
      "outputs": [
        {
          "output_type": "execute_result",
          "data": {
            "text/plain": [
              "                           Line of Code  \\\n",
              "0  int randomNumber = rand() % 100 + 1;   \n",
              "1     int length = strlen(inputString);   \n",
              "2        for (int i = 0; i < 10; i++) {   \n",
              "3                     printf(%d \", i);\"   \n",
              "4         char name[20] = \"John Smith\";   \n",
              "\n",
              "                                             Comment    Class  \n",
              "0      \"Generate a random number between 1 and 100.\"   Useful  \n",
              "1              \"Get the length of the input string.\"   Useful  \n",
              "2                                \"Loop from 0 to 9.\"   Useful  \n",
              "3                    \"Print the current value of i.\"   Useful  \n",
              "4   \"Declare and initialize a character array to ...   Useful  "
            ],
            "text/html": [
              "\n",
              "  <div id=\"df-9f0c8a9f-632f-4862-ba45-bd1aa60bc09e\" class=\"colab-df-container\">\n",
              "    <div>\n",
              "<style scoped>\n",
              "    .dataframe tbody tr th:only-of-type {\n",
              "        vertical-align: middle;\n",
              "    }\n",
              "\n",
              "    .dataframe tbody tr th {\n",
              "        vertical-align: top;\n",
              "    }\n",
              "\n",
              "    .dataframe thead th {\n",
              "        text-align: right;\n",
              "    }\n",
              "</style>\n",
              "<table border=\"1\" class=\"dataframe\">\n",
              "  <thead>\n",
              "    <tr style=\"text-align: right;\">\n",
              "      <th></th>\n",
              "      <th>Line of Code</th>\n",
              "      <th>Comment</th>\n",
              "      <th>Class</th>\n",
              "    </tr>\n",
              "  </thead>\n",
              "  <tbody>\n",
              "    <tr>\n",
              "      <th>0</th>\n",
              "      <td>int randomNumber = rand() % 100 + 1;</td>\n",
              "      <td>\"Generate a random number between 1 and 100.\"</td>\n",
              "      <td>Useful</td>\n",
              "    </tr>\n",
              "    <tr>\n",
              "      <th>1</th>\n",
              "      <td>int length = strlen(inputString);</td>\n",
              "      <td>\"Get the length of the input string.\"</td>\n",
              "      <td>Useful</td>\n",
              "    </tr>\n",
              "    <tr>\n",
              "      <th>2</th>\n",
              "      <td>for (int i = 0; i &lt; 10; i++) {</td>\n",
              "      <td>\"Loop from 0 to 9.\"</td>\n",
              "      <td>Useful</td>\n",
              "    </tr>\n",
              "    <tr>\n",
              "      <th>3</th>\n",
              "      <td>printf(%d \", i);\"</td>\n",
              "      <td>\"Print the current value of i.\"</td>\n",
              "      <td>Useful</td>\n",
              "    </tr>\n",
              "    <tr>\n",
              "      <th>4</th>\n",
              "      <td>char name[20] = \"John Smith\";</td>\n",
              "      <td>\"Declare and initialize a character array to ...</td>\n",
              "      <td>Useful</td>\n",
              "    </tr>\n",
              "  </tbody>\n",
              "</table>\n",
              "</div>\n",
              "    <div class=\"colab-df-buttons\">\n",
              "\n",
              "  <div class=\"colab-df-container\">\n",
              "    <button class=\"colab-df-convert\" onclick=\"convertToInteractive('df-9f0c8a9f-632f-4862-ba45-bd1aa60bc09e')\"\n",
              "            title=\"Convert this dataframe to an interactive table.\"\n",
              "            style=\"display:none;\">\n",
              "\n",
              "  <svg xmlns=\"http://www.w3.org/2000/svg\" height=\"24px\" viewBox=\"0 -960 960 960\">\n",
              "    <path d=\"M120-120v-720h720v720H120Zm60-500h600v-160H180v160Zm220 220h160v-160H400v160Zm0 220h160v-160H400v160ZM180-400h160v-160H180v160Zm440 0h160v-160H620v160ZM180-180h160v-160H180v160Zm440 0h160v-160H620v160Z\"/>\n",
              "  </svg>\n",
              "    </button>\n",
              "\n",
              "  <style>\n",
              "    .colab-df-container {\n",
              "      display:flex;\n",
              "      gap: 12px;\n",
              "    }\n",
              "\n",
              "    .colab-df-convert {\n",
              "      background-color: #E8F0FE;\n",
              "      border: none;\n",
              "      border-radius: 50%;\n",
              "      cursor: pointer;\n",
              "      display: none;\n",
              "      fill: #1967D2;\n",
              "      height: 32px;\n",
              "      padding: 0 0 0 0;\n",
              "      width: 32px;\n",
              "    }\n",
              "\n",
              "    .colab-df-convert:hover {\n",
              "      background-color: #E2EBFA;\n",
              "      box-shadow: 0px 1px 2px rgba(60, 64, 67, 0.3), 0px 1px 3px 1px rgba(60, 64, 67, 0.15);\n",
              "      fill: #174EA6;\n",
              "    }\n",
              "\n",
              "    .colab-df-buttons div {\n",
              "      margin-bottom: 4px;\n",
              "    }\n",
              "\n",
              "    [theme=dark] .colab-df-convert {\n",
              "      background-color: #3B4455;\n",
              "      fill: #D2E3FC;\n",
              "    }\n",
              "\n",
              "    [theme=dark] .colab-df-convert:hover {\n",
              "      background-color: #434B5C;\n",
              "      box-shadow: 0px 1px 3px 1px rgba(0, 0, 0, 0.15);\n",
              "      filter: drop-shadow(0px 1px 2px rgba(0, 0, 0, 0.3));\n",
              "      fill: #FFFFFF;\n",
              "    }\n",
              "  </style>\n",
              "\n",
              "    <script>\n",
              "      const buttonEl =\n",
              "        document.querySelector('#df-9f0c8a9f-632f-4862-ba45-bd1aa60bc09e button.colab-df-convert');\n",
              "      buttonEl.style.display =\n",
              "        google.colab.kernel.accessAllowed ? 'block' : 'none';\n",
              "\n",
              "      async function convertToInteractive(key) {\n",
              "        const element = document.querySelector('#df-9f0c8a9f-632f-4862-ba45-bd1aa60bc09e');\n",
              "        const dataTable =\n",
              "          await google.colab.kernel.invokeFunction('convertToInteractive',\n",
              "                                                    [key], {});\n",
              "        if (!dataTable) return;\n",
              "\n",
              "        const docLinkHtml = 'Like what you see? Visit the ' +\n",
              "          '<a target=\"_blank\" href=https://colab.research.google.com/notebooks/data_table.ipynb>data table notebook</a>'\n",
              "          + ' to learn more about interactive tables.';\n",
              "        element.innerHTML = '';\n",
              "        dataTable['output_type'] = 'display_data';\n",
              "        await google.colab.output.renderOutput(dataTable, element);\n",
              "        const docLink = document.createElement('div');\n",
              "        docLink.innerHTML = docLinkHtml;\n",
              "        element.appendChild(docLink);\n",
              "      }\n",
              "    </script>\n",
              "  </div>\n",
              "\n",
              "\n",
              "<div id=\"df-46b6d43b-cdf3-401c-add7-59dd5d8d5d4c\">\n",
              "  <button class=\"colab-df-quickchart\" onclick=\"quickchart('df-46b6d43b-cdf3-401c-add7-59dd5d8d5d4c')\"\n",
              "            title=\"Suggest charts\"\n",
              "            style=\"display:none;\">\n",
              "\n",
              "<svg xmlns=\"http://www.w3.org/2000/svg\" height=\"24px\"viewBox=\"0 0 24 24\"\n",
              "     width=\"24px\">\n",
              "    <g>\n",
              "        <path d=\"M19 3H5c-1.1 0-2 .9-2 2v14c0 1.1.9 2 2 2h14c1.1 0 2-.9 2-2V5c0-1.1-.9-2-2-2zM9 17H7v-7h2v7zm4 0h-2V7h2v10zm4 0h-2v-4h2v4z\"/>\n",
              "    </g>\n",
              "</svg>\n",
              "  </button>\n",
              "\n",
              "<style>\n",
              "  .colab-df-quickchart {\n",
              "      --bg-color: #E8F0FE;\n",
              "      --fill-color: #1967D2;\n",
              "      --hover-bg-color: #E2EBFA;\n",
              "      --hover-fill-color: #174EA6;\n",
              "      --disabled-fill-color: #AAA;\n",
              "      --disabled-bg-color: #DDD;\n",
              "  }\n",
              "\n",
              "  [theme=dark] .colab-df-quickchart {\n",
              "      --bg-color: #3B4455;\n",
              "      --fill-color: #D2E3FC;\n",
              "      --hover-bg-color: #434B5C;\n",
              "      --hover-fill-color: #FFFFFF;\n",
              "      --disabled-bg-color: #3B4455;\n",
              "      --disabled-fill-color: #666;\n",
              "  }\n",
              "\n",
              "  .colab-df-quickchart {\n",
              "    background-color: var(--bg-color);\n",
              "    border: none;\n",
              "    border-radius: 50%;\n",
              "    cursor: pointer;\n",
              "    display: none;\n",
              "    fill: var(--fill-color);\n",
              "    height: 32px;\n",
              "    padding: 0;\n",
              "    width: 32px;\n",
              "  }\n",
              "\n",
              "  .colab-df-quickchart:hover {\n",
              "    background-color: var(--hover-bg-color);\n",
              "    box-shadow: 0 1px 2px rgba(60, 64, 67, 0.3), 0 1px 3px 1px rgba(60, 64, 67, 0.15);\n",
              "    fill: var(--button-hover-fill-color);\n",
              "  }\n",
              "\n",
              "  .colab-df-quickchart-complete:disabled,\n",
              "  .colab-df-quickchart-complete:disabled:hover {\n",
              "    background-color: var(--disabled-bg-color);\n",
              "    fill: var(--disabled-fill-color);\n",
              "    box-shadow: none;\n",
              "  }\n",
              "\n",
              "  .colab-df-spinner {\n",
              "    border: 2px solid var(--fill-color);\n",
              "    border-color: transparent;\n",
              "    border-bottom-color: var(--fill-color);\n",
              "    animation:\n",
              "      spin 1s steps(1) infinite;\n",
              "  }\n",
              "\n",
              "  @keyframes spin {\n",
              "    0% {\n",
              "      border-color: transparent;\n",
              "      border-bottom-color: var(--fill-color);\n",
              "      border-left-color: var(--fill-color);\n",
              "    }\n",
              "    20% {\n",
              "      border-color: transparent;\n",
              "      border-left-color: var(--fill-color);\n",
              "      border-top-color: var(--fill-color);\n",
              "    }\n",
              "    30% {\n",
              "      border-color: transparent;\n",
              "      border-left-color: var(--fill-color);\n",
              "      border-top-color: var(--fill-color);\n",
              "      border-right-color: var(--fill-color);\n",
              "    }\n",
              "    40% {\n",
              "      border-color: transparent;\n",
              "      border-right-color: var(--fill-color);\n",
              "      border-top-color: var(--fill-color);\n",
              "    }\n",
              "    60% {\n",
              "      border-color: transparent;\n",
              "      border-right-color: var(--fill-color);\n",
              "    }\n",
              "    80% {\n",
              "      border-color: transparent;\n",
              "      border-right-color: var(--fill-color);\n",
              "      border-bottom-color: var(--fill-color);\n",
              "    }\n",
              "    90% {\n",
              "      border-color: transparent;\n",
              "      border-bottom-color: var(--fill-color);\n",
              "    }\n",
              "  }\n",
              "</style>\n",
              "\n",
              "  <script>\n",
              "    async function quickchart(key) {\n",
              "      const quickchartButtonEl =\n",
              "        document.querySelector('#' + key + ' button');\n",
              "      quickchartButtonEl.disabled = true;  // To prevent multiple clicks.\n",
              "      quickchartButtonEl.classList.add('colab-df-spinner');\n",
              "      try {\n",
              "        const charts = await google.colab.kernel.invokeFunction(\n",
              "            'suggestCharts', [key], {});\n",
              "      } catch (error) {\n",
              "        console.error('Error during call to suggestCharts:', error);\n",
              "      }\n",
              "      quickchartButtonEl.classList.remove('colab-df-spinner');\n",
              "      quickchartButtonEl.classList.add('colab-df-quickchart-complete');\n",
              "    }\n",
              "    (() => {\n",
              "      let quickchartButtonEl =\n",
              "        document.querySelector('#df-46b6d43b-cdf3-401c-add7-59dd5d8d5d4c button');\n",
              "      quickchartButtonEl.style.display =\n",
              "        google.colab.kernel.accessAllowed ? 'block' : 'none';\n",
              "    })();\n",
              "  </script>\n",
              "</div>\n",
              "    </div>\n",
              "  </div>\n"
            ],
            "application/vnd.google.colaboratory.intrinsic+json": {
              "type": "dataframe",
              "variable_name": "chatgpt_data",
              "summary": "{\n  \"name\": \"chatgpt_data\",\n  \"rows\": 420,\n  \"fields\": [\n    {\n      \"column\": \"Line of Code\",\n      \"properties\": {\n        \"dtype\": \"string\",\n        \"samples\": [\n          \"printf(\\\"The sum of digits of %d is: %d\\\\n\\\", x, sumOfDigitsX);\",\n          \"int x = 5, y = 10;\",\n          \"int sum = addNumbers(10, 20);\"\n        ],\n        \"num_unique_values\": 311,\n        \"semantic_type\": \"\",\n        \"description\": \"\"\n      }\n    },\n    {\n      \"column\": \"Comment\",\n      \"properties\": {\n        \"dtype\": \"string\",\n        \"samples\": [\n          \" \\\"Reverse the digits of the number using the function reverseNumber() and store the result in reverse.\\\"\",\n          \" \\\"Add the current number to the sum.\\\"\",\n          \" \\\"Check if the value of x is greater than 0.\\\"\"\n        ],\n        \"num_unique_values\": 389,\n        \"semantic_type\": \"\",\n        \"description\": \"\"\n      }\n    },\n    {\n      \"column\": \"Class\",\n      \"properties\": {\n        \"dtype\": \"category\",\n        \"samples\": [\n          \" Useful\",\n          \" Not Useful\",\n          \"Not Useful\"\n        ],\n        \"num_unique_values\": 3,\n        \"semantic_type\": \"\",\n        \"description\": \"\"\n      }\n    }\n  ]\n}"
            }
          },
          "metadata": {},
          "execution_count": 22
        }
      ]
    },
    {
      "cell_type": "code",
      "source": [
        "# experiment 3: Try self-training with ChatGPT symbolically generated data\n",
        "symbolic_data = pd.read_csv('llm_symbolic_generated_data.csv')\n",
        "symbolic_data.head(5)"
      ],
      "metadata": {
        "colab": {
          "base_uri": "https://localhost:8080/",
          "height": 206
        },
        "id": "YBa1Olk_Jpdg",
        "outputId": "08914560-ff41-48f7-a878-626ca037528e"
      },
      "execution_count": 23,
      "outputs": [
        {
          "output_type": "execute_result",
          "data": {
            "text/plain": [
              "            Line of Code                                            Comment  \\\n",
              "0                 do rf;                                                NaN   \n",
              "1     double eVqWsc4JTj;                 /* jPMSXf9g7zS */ // A VQL2 YTCzrq   \n",
              "2      break jeckm = 82;                       // gIyPYWK0G6 sH7k8dX8n nb8F   \n",
              "3  static q3GV0wdM = 73;                                                NaN   \n",
              "4      float hmGmMaom5j;  // Function of Parameter in the line of code:\\...   \n",
              "\n",
              "        Class  \n",
              "0  Not Useful  \n",
              "1  Not Useful  \n",
              "2  Not Useful  \n",
              "3  Not Useful  \n",
              "4      Useful  "
            ],
            "text/html": [
              "\n",
              "  <div id=\"df-77bfec0a-d3e6-4a0e-907e-380c0262d900\" class=\"colab-df-container\">\n",
              "    <div>\n",
              "<style scoped>\n",
              "    .dataframe tbody tr th:only-of-type {\n",
              "        vertical-align: middle;\n",
              "    }\n",
              "\n",
              "    .dataframe tbody tr th {\n",
              "        vertical-align: top;\n",
              "    }\n",
              "\n",
              "    .dataframe thead th {\n",
              "        text-align: right;\n",
              "    }\n",
              "</style>\n",
              "<table border=\"1\" class=\"dataframe\">\n",
              "  <thead>\n",
              "    <tr style=\"text-align: right;\">\n",
              "      <th></th>\n",
              "      <th>Line of Code</th>\n",
              "      <th>Comment</th>\n",
              "      <th>Class</th>\n",
              "    </tr>\n",
              "  </thead>\n",
              "  <tbody>\n",
              "    <tr>\n",
              "      <th>0</th>\n",
              "      <td>do rf;</td>\n",
              "      <td>NaN</td>\n",
              "      <td>Not Useful</td>\n",
              "    </tr>\n",
              "    <tr>\n",
              "      <th>1</th>\n",
              "      <td>double eVqWsc4JTj;</td>\n",
              "      <td>/* jPMSXf9g7zS */ // A VQL2 YTCzrq</td>\n",
              "      <td>Not Useful</td>\n",
              "    </tr>\n",
              "    <tr>\n",
              "      <th>2</th>\n",
              "      <td>break jeckm = 82;</td>\n",
              "      <td>// gIyPYWK0G6 sH7k8dX8n nb8F</td>\n",
              "      <td>Not Useful</td>\n",
              "    </tr>\n",
              "    <tr>\n",
              "      <th>3</th>\n",
              "      <td>static q3GV0wdM = 73;</td>\n",
              "      <td>NaN</td>\n",
              "      <td>Not Useful</td>\n",
              "    </tr>\n",
              "    <tr>\n",
              "      <th>4</th>\n",
              "      <td>float hmGmMaom5j;</td>\n",
              "      <td>// Function of Parameter in the line of code:\\...</td>\n",
              "      <td>Useful</td>\n",
              "    </tr>\n",
              "  </tbody>\n",
              "</table>\n",
              "</div>\n",
              "    <div class=\"colab-df-buttons\">\n",
              "\n",
              "  <div class=\"colab-df-container\">\n",
              "    <button class=\"colab-df-convert\" onclick=\"convertToInteractive('df-77bfec0a-d3e6-4a0e-907e-380c0262d900')\"\n",
              "            title=\"Convert this dataframe to an interactive table.\"\n",
              "            style=\"display:none;\">\n",
              "\n",
              "  <svg xmlns=\"http://www.w3.org/2000/svg\" height=\"24px\" viewBox=\"0 -960 960 960\">\n",
              "    <path d=\"M120-120v-720h720v720H120Zm60-500h600v-160H180v160Zm220 220h160v-160H400v160Zm0 220h160v-160H400v160ZM180-400h160v-160H180v160Zm440 0h160v-160H620v160ZM180-180h160v-160H180v160Zm440 0h160v-160H620v160Z\"/>\n",
              "  </svg>\n",
              "    </button>\n",
              "\n",
              "  <style>\n",
              "    .colab-df-container {\n",
              "      display:flex;\n",
              "      gap: 12px;\n",
              "    }\n",
              "\n",
              "    .colab-df-convert {\n",
              "      background-color: #E8F0FE;\n",
              "      border: none;\n",
              "      border-radius: 50%;\n",
              "      cursor: pointer;\n",
              "      display: none;\n",
              "      fill: #1967D2;\n",
              "      height: 32px;\n",
              "      padding: 0 0 0 0;\n",
              "      width: 32px;\n",
              "    }\n",
              "\n",
              "    .colab-df-convert:hover {\n",
              "      background-color: #E2EBFA;\n",
              "      box-shadow: 0px 1px 2px rgba(60, 64, 67, 0.3), 0px 1px 3px 1px rgba(60, 64, 67, 0.15);\n",
              "      fill: #174EA6;\n",
              "    }\n",
              "\n",
              "    .colab-df-buttons div {\n",
              "      margin-bottom: 4px;\n",
              "    }\n",
              "\n",
              "    [theme=dark] .colab-df-convert {\n",
              "      background-color: #3B4455;\n",
              "      fill: #D2E3FC;\n",
              "    }\n",
              "\n",
              "    [theme=dark] .colab-df-convert:hover {\n",
              "      background-color: #434B5C;\n",
              "      box-shadow: 0px 1px 3px 1px rgba(0, 0, 0, 0.15);\n",
              "      filter: drop-shadow(0px 1px 2px rgba(0, 0, 0, 0.3));\n",
              "      fill: #FFFFFF;\n",
              "    }\n",
              "  </style>\n",
              "\n",
              "    <script>\n",
              "      const buttonEl =\n",
              "        document.querySelector('#df-77bfec0a-d3e6-4a0e-907e-380c0262d900 button.colab-df-convert');\n",
              "      buttonEl.style.display =\n",
              "        google.colab.kernel.accessAllowed ? 'block' : 'none';\n",
              "\n",
              "      async function convertToInteractive(key) {\n",
              "        const element = document.querySelector('#df-77bfec0a-d3e6-4a0e-907e-380c0262d900');\n",
              "        const dataTable =\n",
              "          await google.colab.kernel.invokeFunction('convertToInteractive',\n",
              "                                                    [key], {});\n",
              "        if (!dataTable) return;\n",
              "\n",
              "        const docLinkHtml = 'Like what you see? Visit the ' +\n",
              "          '<a target=\"_blank\" href=https://colab.research.google.com/notebooks/data_table.ipynb>data table notebook</a>'\n",
              "          + ' to learn more about interactive tables.';\n",
              "        element.innerHTML = '';\n",
              "        dataTable['output_type'] = 'display_data';\n",
              "        await google.colab.output.renderOutput(dataTable, element);\n",
              "        const docLink = document.createElement('div');\n",
              "        docLink.innerHTML = docLinkHtml;\n",
              "        element.appendChild(docLink);\n",
              "      }\n",
              "    </script>\n",
              "  </div>\n",
              "\n",
              "\n",
              "<div id=\"df-2d2acc16-4868-4148-887c-be0eaab26b5b\">\n",
              "  <button class=\"colab-df-quickchart\" onclick=\"quickchart('df-2d2acc16-4868-4148-887c-be0eaab26b5b')\"\n",
              "            title=\"Suggest charts\"\n",
              "            style=\"display:none;\">\n",
              "\n",
              "<svg xmlns=\"http://www.w3.org/2000/svg\" height=\"24px\"viewBox=\"0 0 24 24\"\n",
              "     width=\"24px\">\n",
              "    <g>\n",
              "        <path d=\"M19 3H5c-1.1 0-2 .9-2 2v14c0 1.1.9 2 2 2h14c1.1 0 2-.9 2-2V5c0-1.1-.9-2-2-2zM9 17H7v-7h2v7zm4 0h-2V7h2v10zm4 0h-2v-4h2v4z\"/>\n",
              "    </g>\n",
              "</svg>\n",
              "  </button>\n",
              "\n",
              "<style>\n",
              "  .colab-df-quickchart {\n",
              "      --bg-color: #E8F0FE;\n",
              "      --fill-color: #1967D2;\n",
              "      --hover-bg-color: #E2EBFA;\n",
              "      --hover-fill-color: #174EA6;\n",
              "      --disabled-fill-color: #AAA;\n",
              "      --disabled-bg-color: #DDD;\n",
              "  }\n",
              "\n",
              "  [theme=dark] .colab-df-quickchart {\n",
              "      --bg-color: #3B4455;\n",
              "      --fill-color: #D2E3FC;\n",
              "      --hover-bg-color: #434B5C;\n",
              "      --hover-fill-color: #FFFFFF;\n",
              "      --disabled-bg-color: #3B4455;\n",
              "      --disabled-fill-color: #666;\n",
              "  }\n",
              "\n",
              "  .colab-df-quickchart {\n",
              "    background-color: var(--bg-color);\n",
              "    border: none;\n",
              "    border-radius: 50%;\n",
              "    cursor: pointer;\n",
              "    display: none;\n",
              "    fill: var(--fill-color);\n",
              "    height: 32px;\n",
              "    padding: 0;\n",
              "    width: 32px;\n",
              "  }\n",
              "\n",
              "  .colab-df-quickchart:hover {\n",
              "    background-color: var(--hover-bg-color);\n",
              "    box-shadow: 0 1px 2px rgba(60, 64, 67, 0.3), 0 1px 3px 1px rgba(60, 64, 67, 0.15);\n",
              "    fill: var(--button-hover-fill-color);\n",
              "  }\n",
              "\n",
              "  .colab-df-quickchart-complete:disabled,\n",
              "  .colab-df-quickchart-complete:disabled:hover {\n",
              "    background-color: var(--disabled-bg-color);\n",
              "    fill: var(--disabled-fill-color);\n",
              "    box-shadow: none;\n",
              "  }\n",
              "\n",
              "  .colab-df-spinner {\n",
              "    border: 2px solid var(--fill-color);\n",
              "    border-color: transparent;\n",
              "    border-bottom-color: var(--fill-color);\n",
              "    animation:\n",
              "      spin 1s steps(1) infinite;\n",
              "  }\n",
              "\n",
              "  @keyframes spin {\n",
              "    0% {\n",
              "      border-color: transparent;\n",
              "      border-bottom-color: var(--fill-color);\n",
              "      border-left-color: var(--fill-color);\n",
              "    }\n",
              "    20% {\n",
              "      border-color: transparent;\n",
              "      border-left-color: var(--fill-color);\n",
              "      border-top-color: var(--fill-color);\n",
              "    }\n",
              "    30% {\n",
              "      border-color: transparent;\n",
              "      border-left-color: var(--fill-color);\n",
              "      border-top-color: var(--fill-color);\n",
              "      border-right-color: var(--fill-color);\n",
              "    }\n",
              "    40% {\n",
              "      border-color: transparent;\n",
              "      border-right-color: var(--fill-color);\n",
              "      border-top-color: var(--fill-color);\n",
              "    }\n",
              "    60% {\n",
              "      border-color: transparent;\n",
              "      border-right-color: var(--fill-color);\n",
              "    }\n",
              "    80% {\n",
              "      border-color: transparent;\n",
              "      border-right-color: var(--fill-color);\n",
              "      border-bottom-color: var(--fill-color);\n",
              "    }\n",
              "    90% {\n",
              "      border-color: transparent;\n",
              "      border-bottom-color: var(--fill-color);\n",
              "    }\n",
              "  }\n",
              "</style>\n",
              "\n",
              "  <script>\n",
              "    async function quickchart(key) {\n",
              "      const quickchartButtonEl =\n",
              "        document.querySelector('#' + key + ' button');\n",
              "      quickchartButtonEl.disabled = true;  // To prevent multiple clicks.\n",
              "      quickchartButtonEl.classList.add('colab-df-spinner');\n",
              "      try {\n",
              "        const charts = await google.colab.kernel.invokeFunction(\n",
              "            'suggestCharts', [key], {});\n",
              "      } catch (error) {\n",
              "        console.error('Error during call to suggestCharts:', error);\n",
              "      }\n",
              "      quickchartButtonEl.classList.remove('colab-df-spinner');\n",
              "      quickchartButtonEl.classList.add('colab-df-quickchart-complete');\n",
              "    }\n",
              "    (() => {\n",
              "      let quickchartButtonEl =\n",
              "        document.querySelector('#df-2d2acc16-4868-4148-887c-be0eaab26b5b button');\n",
              "      quickchartButtonEl.style.display =\n",
              "        google.colab.kernel.accessAllowed ? 'block' : 'none';\n",
              "    })();\n",
              "  </script>\n",
              "</div>\n",
              "    </div>\n",
              "  </div>\n"
            ],
            "application/vnd.google.colaboratory.intrinsic+json": {
              "type": "dataframe",
              "variable_name": "symbolic_data",
              "summary": "{\n  \"name\": \"symbolic_data\",\n  \"rows\": 5000,\n  \"fields\": [\n    {\n      \"column\": \"Line of Code\",\n      \"properties\": {\n        \"dtype\": \"string\",\n        \"samples\": [\n          \"for k = 42;\",\n          \"default IFF0m8EPMn0 = 9;\",\n          \"for lk1zvAG;\"\n        ],\n        \"num_unique_values\": 4986,\n        \"semantic_type\": \"\",\n        \"description\": \"\"\n      }\n    },\n    {\n      \"column\": \"Comment\",\n      \"properties\": {\n        \"dtype\": \"string\",\n        \"samples\": [\n          \"// Usage of Variable in the line of code:\\n// while xcUAGC = 6;\",\n          \"/* CwDFZIfjna */ // Dxw4o NRSyMvQ9NZE\",\n          \"// Usage of Value in the line of code:\\n// auto nl = 95;\"\n        ],\n        \"num_unique_values\": 4327,\n        \"semantic_type\": \"\",\n        \"description\": \"\"\n      }\n    },\n    {\n      \"column\": \"Class\",\n      \"properties\": {\n        \"dtype\": \"category\",\n        \"samples\": [\n          \"Useful\",\n          \"Not Useful\"\n        ],\n        \"num_unique_values\": 2,\n        \"semantic_type\": \"\",\n        \"description\": \"\"\n      }\n    }\n  ]\n}"
            }
          },
          "metadata": {},
          "execution_count": 23
        }
      ]
    },
    {
      "cell_type": "code",
      "source": [
        "# clean dataset by removing extra quotation marks that ChatGPT adds when it generates content\n",
        "chatgpt_data[\"Line of Code\"] = chatgpt_data[\"Line of Code\"].str.lstrip('\"')\n",
        "chatgpt_data[\"Line of Code\"] = chatgpt_data[\"Line of Code\"].str.rstrip('\"')\n",
        "# rename columns to match original data columns\n",
        "chatgpt_data = chatgpt_data.rename(columns={'Comment': 'Comments', 'Line of Code': 'Surrounding Code Context', 'Class': 'Class'})\n",
        "# change column order to match original dataset\n",
        "chatgpt_data = chatgpt_data[['Comments', 'Surrounding Code Context', 'Class']]\n",
        "chatgpt_data['Comments'] = chatgpt_data['Comments'].map(lambda x: x.strip().lstrip('\"').rstrip('\"'))\n",
        "chatgpt_data['Surrounding Code Context'] = chatgpt_data['Surrounding Code Context'].map(lambda x: x.strip())\n",
        "chatgpt_data['Class'] = chatgpt_data['Class'].map(lambda x: x.strip())\n",
        "chatgpt_data.head(5)\n",
        "\n",
        "# do the same for the symbolic generated data\n",
        "symbolic_data[\"Line of Code\"] = symbolic_data[\"Line of Code\"].str.lstrip('\"')\n",
        "symbolic_data[\"Line of Code\"] = symbolic_data[\"Line of Code\"].str.rstrip('\"')\n",
        "# rename columns to match original data columns\n",
        "symbolic_data = symbolic_data.rename(columns={'Comment': 'Comments', 'Line of Code': 'Surrounding Code Context', 'Class': 'Class'})\n",
        "# change column order to match original dataset\n",
        "symbolic_data = symbolic_data[['Comments', 'Surrounding Code Context', 'Class']]\n",
        "symbolic_data['Comments'] = symbolic_data['Comments'].map(lambda x: str(x).strip().lstrip('\"').rstrip('\"'))\n",
        "symbolic_data['Surrounding Code Context'] = symbolic_data['Surrounding Code Context'].map(lambda x: x.strip())\n",
        "symbolic_data['Class'] = symbolic_data['Class'].map(lambda x: x.strip())\n",
        "symbolic_data.head(5)"
      ],
      "metadata": {
        "colab": {
          "base_uri": "https://localhost:8080/",
          "height": 206
        },
        "id": "YQsDFr5ntXba",
        "outputId": "ec5903fe-8b8b-435b-fe1c-4979a4a2e1eb"
      },
      "execution_count": 24,
      "outputs": [
        {
          "output_type": "execute_result",
          "data": {
            "text/plain": [
              "                                            Comments Surrounding Code Context  \\\n",
              "0                                                nan                   do rf;   \n",
              "1                 /* jPMSXf9g7zS */ // A VQL2 YTCzrq       double eVqWsc4JTj;   \n",
              "2                       // gIyPYWK0G6 sH7k8dX8n nb8F        break jeckm = 82;   \n",
              "3                                                nan    static q3GV0wdM = 73;   \n",
              "4  // Function of Parameter in the line of code:\\...        float hmGmMaom5j;   \n",
              "\n",
              "        Class  \n",
              "0  Not Useful  \n",
              "1  Not Useful  \n",
              "2  Not Useful  \n",
              "3  Not Useful  \n",
              "4      Useful  "
            ],
            "text/html": [
              "\n",
              "  <div id=\"df-99265d2c-31dd-48e1-abb3-79384ebf2278\" class=\"colab-df-container\">\n",
              "    <div>\n",
              "<style scoped>\n",
              "    .dataframe tbody tr th:only-of-type {\n",
              "        vertical-align: middle;\n",
              "    }\n",
              "\n",
              "    .dataframe tbody tr th {\n",
              "        vertical-align: top;\n",
              "    }\n",
              "\n",
              "    .dataframe thead th {\n",
              "        text-align: right;\n",
              "    }\n",
              "</style>\n",
              "<table border=\"1\" class=\"dataframe\">\n",
              "  <thead>\n",
              "    <tr style=\"text-align: right;\">\n",
              "      <th></th>\n",
              "      <th>Comments</th>\n",
              "      <th>Surrounding Code Context</th>\n",
              "      <th>Class</th>\n",
              "    </tr>\n",
              "  </thead>\n",
              "  <tbody>\n",
              "    <tr>\n",
              "      <th>0</th>\n",
              "      <td>nan</td>\n",
              "      <td>do rf;</td>\n",
              "      <td>Not Useful</td>\n",
              "    </tr>\n",
              "    <tr>\n",
              "      <th>1</th>\n",
              "      <td>/* jPMSXf9g7zS */ // A VQL2 YTCzrq</td>\n",
              "      <td>double eVqWsc4JTj;</td>\n",
              "      <td>Not Useful</td>\n",
              "    </tr>\n",
              "    <tr>\n",
              "      <th>2</th>\n",
              "      <td>// gIyPYWK0G6 sH7k8dX8n nb8F</td>\n",
              "      <td>break jeckm = 82;</td>\n",
              "      <td>Not Useful</td>\n",
              "    </tr>\n",
              "    <tr>\n",
              "      <th>3</th>\n",
              "      <td>nan</td>\n",
              "      <td>static q3GV0wdM = 73;</td>\n",
              "      <td>Not Useful</td>\n",
              "    </tr>\n",
              "    <tr>\n",
              "      <th>4</th>\n",
              "      <td>// Function of Parameter in the line of code:\\...</td>\n",
              "      <td>float hmGmMaom5j;</td>\n",
              "      <td>Useful</td>\n",
              "    </tr>\n",
              "  </tbody>\n",
              "</table>\n",
              "</div>\n",
              "    <div class=\"colab-df-buttons\">\n",
              "\n",
              "  <div class=\"colab-df-container\">\n",
              "    <button class=\"colab-df-convert\" onclick=\"convertToInteractive('df-99265d2c-31dd-48e1-abb3-79384ebf2278')\"\n",
              "            title=\"Convert this dataframe to an interactive table.\"\n",
              "            style=\"display:none;\">\n",
              "\n",
              "  <svg xmlns=\"http://www.w3.org/2000/svg\" height=\"24px\" viewBox=\"0 -960 960 960\">\n",
              "    <path d=\"M120-120v-720h720v720H120Zm60-500h600v-160H180v160Zm220 220h160v-160H400v160Zm0 220h160v-160H400v160ZM180-400h160v-160H180v160Zm440 0h160v-160H620v160ZM180-180h160v-160H180v160Zm440 0h160v-160H620v160Z\"/>\n",
              "  </svg>\n",
              "    </button>\n",
              "\n",
              "  <style>\n",
              "    .colab-df-container {\n",
              "      display:flex;\n",
              "      gap: 12px;\n",
              "    }\n",
              "\n",
              "    .colab-df-convert {\n",
              "      background-color: #E8F0FE;\n",
              "      border: none;\n",
              "      border-radius: 50%;\n",
              "      cursor: pointer;\n",
              "      display: none;\n",
              "      fill: #1967D2;\n",
              "      height: 32px;\n",
              "      padding: 0 0 0 0;\n",
              "      width: 32px;\n",
              "    }\n",
              "\n",
              "    .colab-df-convert:hover {\n",
              "      background-color: #E2EBFA;\n",
              "      box-shadow: 0px 1px 2px rgba(60, 64, 67, 0.3), 0px 1px 3px 1px rgba(60, 64, 67, 0.15);\n",
              "      fill: #174EA6;\n",
              "    }\n",
              "\n",
              "    .colab-df-buttons div {\n",
              "      margin-bottom: 4px;\n",
              "    }\n",
              "\n",
              "    [theme=dark] .colab-df-convert {\n",
              "      background-color: #3B4455;\n",
              "      fill: #D2E3FC;\n",
              "    }\n",
              "\n",
              "    [theme=dark] .colab-df-convert:hover {\n",
              "      background-color: #434B5C;\n",
              "      box-shadow: 0px 1px 3px 1px rgba(0, 0, 0, 0.15);\n",
              "      filter: drop-shadow(0px 1px 2px rgba(0, 0, 0, 0.3));\n",
              "      fill: #FFFFFF;\n",
              "    }\n",
              "  </style>\n",
              "\n",
              "    <script>\n",
              "      const buttonEl =\n",
              "        document.querySelector('#df-99265d2c-31dd-48e1-abb3-79384ebf2278 button.colab-df-convert');\n",
              "      buttonEl.style.display =\n",
              "        google.colab.kernel.accessAllowed ? 'block' : 'none';\n",
              "\n",
              "      async function convertToInteractive(key) {\n",
              "        const element = document.querySelector('#df-99265d2c-31dd-48e1-abb3-79384ebf2278');\n",
              "        const dataTable =\n",
              "          await google.colab.kernel.invokeFunction('convertToInteractive',\n",
              "                                                    [key], {});\n",
              "        if (!dataTable) return;\n",
              "\n",
              "        const docLinkHtml = 'Like what you see? Visit the ' +\n",
              "          '<a target=\"_blank\" href=https://colab.research.google.com/notebooks/data_table.ipynb>data table notebook</a>'\n",
              "          + ' to learn more about interactive tables.';\n",
              "        element.innerHTML = '';\n",
              "        dataTable['output_type'] = 'display_data';\n",
              "        await google.colab.output.renderOutput(dataTable, element);\n",
              "        const docLink = document.createElement('div');\n",
              "        docLink.innerHTML = docLinkHtml;\n",
              "        element.appendChild(docLink);\n",
              "      }\n",
              "    </script>\n",
              "  </div>\n",
              "\n",
              "\n",
              "<div id=\"df-e84be5ae-db1b-4240-836e-1258aab6bd7b\">\n",
              "  <button class=\"colab-df-quickchart\" onclick=\"quickchart('df-e84be5ae-db1b-4240-836e-1258aab6bd7b')\"\n",
              "            title=\"Suggest charts\"\n",
              "            style=\"display:none;\">\n",
              "\n",
              "<svg xmlns=\"http://www.w3.org/2000/svg\" height=\"24px\"viewBox=\"0 0 24 24\"\n",
              "     width=\"24px\">\n",
              "    <g>\n",
              "        <path d=\"M19 3H5c-1.1 0-2 .9-2 2v14c0 1.1.9 2 2 2h14c1.1 0 2-.9 2-2V5c0-1.1-.9-2-2-2zM9 17H7v-7h2v7zm4 0h-2V7h2v10zm4 0h-2v-4h2v4z\"/>\n",
              "    </g>\n",
              "</svg>\n",
              "  </button>\n",
              "\n",
              "<style>\n",
              "  .colab-df-quickchart {\n",
              "      --bg-color: #E8F0FE;\n",
              "      --fill-color: #1967D2;\n",
              "      --hover-bg-color: #E2EBFA;\n",
              "      --hover-fill-color: #174EA6;\n",
              "      --disabled-fill-color: #AAA;\n",
              "      --disabled-bg-color: #DDD;\n",
              "  }\n",
              "\n",
              "  [theme=dark] .colab-df-quickchart {\n",
              "      --bg-color: #3B4455;\n",
              "      --fill-color: #D2E3FC;\n",
              "      --hover-bg-color: #434B5C;\n",
              "      --hover-fill-color: #FFFFFF;\n",
              "      --disabled-bg-color: #3B4455;\n",
              "      --disabled-fill-color: #666;\n",
              "  }\n",
              "\n",
              "  .colab-df-quickchart {\n",
              "    background-color: var(--bg-color);\n",
              "    border: none;\n",
              "    border-radius: 50%;\n",
              "    cursor: pointer;\n",
              "    display: none;\n",
              "    fill: var(--fill-color);\n",
              "    height: 32px;\n",
              "    padding: 0;\n",
              "    width: 32px;\n",
              "  }\n",
              "\n",
              "  .colab-df-quickchart:hover {\n",
              "    background-color: var(--hover-bg-color);\n",
              "    box-shadow: 0 1px 2px rgba(60, 64, 67, 0.3), 0 1px 3px 1px rgba(60, 64, 67, 0.15);\n",
              "    fill: var(--button-hover-fill-color);\n",
              "  }\n",
              "\n",
              "  .colab-df-quickchart-complete:disabled,\n",
              "  .colab-df-quickchart-complete:disabled:hover {\n",
              "    background-color: var(--disabled-bg-color);\n",
              "    fill: var(--disabled-fill-color);\n",
              "    box-shadow: none;\n",
              "  }\n",
              "\n",
              "  .colab-df-spinner {\n",
              "    border: 2px solid var(--fill-color);\n",
              "    border-color: transparent;\n",
              "    border-bottom-color: var(--fill-color);\n",
              "    animation:\n",
              "      spin 1s steps(1) infinite;\n",
              "  }\n",
              "\n",
              "  @keyframes spin {\n",
              "    0% {\n",
              "      border-color: transparent;\n",
              "      border-bottom-color: var(--fill-color);\n",
              "      border-left-color: var(--fill-color);\n",
              "    }\n",
              "    20% {\n",
              "      border-color: transparent;\n",
              "      border-left-color: var(--fill-color);\n",
              "      border-top-color: var(--fill-color);\n",
              "    }\n",
              "    30% {\n",
              "      border-color: transparent;\n",
              "      border-left-color: var(--fill-color);\n",
              "      border-top-color: var(--fill-color);\n",
              "      border-right-color: var(--fill-color);\n",
              "    }\n",
              "    40% {\n",
              "      border-color: transparent;\n",
              "      border-right-color: var(--fill-color);\n",
              "      border-top-color: var(--fill-color);\n",
              "    }\n",
              "    60% {\n",
              "      border-color: transparent;\n",
              "      border-right-color: var(--fill-color);\n",
              "    }\n",
              "    80% {\n",
              "      border-color: transparent;\n",
              "      border-right-color: var(--fill-color);\n",
              "      border-bottom-color: var(--fill-color);\n",
              "    }\n",
              "    90% {\n",
              "      border-color: transparent;\n",
              "      border-bottom-color: var(--fill-color);\n",
              "    }\n",
              "  }\n",
              "</style>\n",
              "\n",
              "  <script>\n",
              "    async function quickchart(key) {\n",
              "      const quickchartButtonEl =\n",
              "        document.querySelector('#' + key + ' button');\n",
              "      quickchartButtonEl.disabled = true;  // To prevent multiple clicks.\n",
              "      quickchartButtonEl.classList.add('colab-df-spinner');\n",
              "      try {\n",
              "        const charts = await google.colab.kernel.invokeFunction(\n",
              "            'suggestCharts', [key], {});\n",
              "      } catch (error) {\n",
              "        console.error('Error during call to suggestCharts:', error);\n",
              "      }\n",
              "      quickchartButtonEl.classList.remove('colab-df-spinner');\n",
              "      quickchartButtonEl.classList.add('colab-df-quickchart-complete');\n",
              "    }\n",
              "    (() => {\n",
              "      let quickchartButtonEl =\n",
              "        document.querySelector('#df-e84be5ae-db1b-4240-836e-1258aab6bd7b button');\n",
              "      quickchartButtonEl.style.display =\n",
              "        google.colab.kernel.accessAllowed ? 'block' : 'none';\n",
              "    })();\n",
              "  </script>\n",
              "</div>\n",
              "    </div>\n",
              "  </div>\n"
            ],
            "application/vnd.google.colaboratory.intrinsic+json": {
              "type": "dataframe",
              "variable_name": "symbolic_data",
              "summary": "{\n  \"name\": \"symbolic_data\",\n  \"rows\": 5000,\n  \"fields\": [\n    {\n      \"column\": \"Comments\",\n      \"properties\": {\n        \"dtype\": \"string\",\n        \"samples\": [\n          \"/* d3YsK */\",\n          \"// Definition of Data in the line of code:\\n// int bWD;\",\n          \"// Explanation of Data in the line of code:\\n// void nNu60u35Sb6 = 65;\"\n        ],\n        \"num_unique_values\": 4328,\n        \"semantic_type\": \"\",\n        \"description\": \"\"\n      }\n    },\n    {\n      \"column\": \"Surrounding Code Context\",\n      \"properties\": {\n        \"dtype\": \"string\",\n        \"samples\": [\n          \"for k = 42;\",\n          \"default IFF0m8EPMn0 = 9;\",\n          \"for lk1zvAG;\"\n        ],\n        \"num_unique_values\": 4986,\n        \"semantic_type\": \"\",\n        \"description\": \"\"\n      }\n    },\n    {\n      \"column\": \"Class\",\n      \"properties\": {\n        \"dtype\": \"category\",\n        \"samples\": [\n          \"Useful\",\n          \"Not Useful\"\n        ],\n        \"num_unique_values\": 2,\n        \"semantic_type\": \"\",\n        \"description\": \"\"\n      }\n    }\n  ]\n}"
            }
          },
          "metadata": {},
          "execution_count": 24
        }
      ]
    },
    {
      "cell_type": "code",
      "source": [
        "# now merge new dataset with the old\n",
        "full_data = data.append(chatgpt_data)\n",
        "full_data = full_data.append(symbolic_data)\n",
        "print(full_data.shape)\n",
        "full_data.head(5)"
      ],
      "metadata": {
        "colab": {
          "base_uri": "https://localhost:8080/",
          "height": 315
        },
        "id": "w4CnQ-IcBqd2",
        "outputId": "ab2e3cc1-d116-4488-e7f6-af81e1725425"
      },
      "execution_count": 25,
      "outputs": [
        {
          "output_type": "stream",
          "name": "stdout",
          "text": [
            "(16872, 3)\n"
          ]
        },
        {
          "output_type": "stream",
          "name": "stderr",
          "text": [
            "<ipython-input-25-c6d6eabdf6e6>:2: FutureWarning: The frame.append method is deprecated and will be removed from pandas in a future version. Use pandas.concat instead.\n",
            "  full_data = data.append(chatgpt_data)\n",
            "<ipython-input-25-c6d6eabdf6e6>:3: FutureWarning: The frame.append method is deprecated and will be removed from pandas in a future version. Use pandas.concat instead.\n",
            "  full_data = full_data.append(symbolic_data)\n"
          ]
        },
        {
          "output_type": "execute_result",
          "data": {
            "text/plain": [
              "       Comments                           Surrounding Code Context       Class\n",
              "0  /*test 529*/  -10.   int res = 0;\\n-9.   CURL *curl = NULL;\\...  Not Useful\n",
              "1  /*test 525*/  -2.     fprintf(stderr, \"Usage: lib529 [url] [...  Not Useful\n",
              "2      /*done*/  -10.   multi_add_handle(m, curl);\\n-9.   for(;...  Not Useful\n",
              "3  /*test 529*/  -10.   int res = 0;\\n-9.   CURL *curl = NULL;\\...  Not Useful\n",
              "4  /*test 525*/  -2.     fprintf(stderr, \"Usage: lib529 [url] [...  Not Useful"
            ],
            "text/html": [
              "\n",
              "  <div id=\"df-b74eb2f0-d2a4-4fae-b8e3-ee3024ebbb5d\" class=\"colab-df-container\">\n",
              "    <div>\n",
              "<style scoped>\n",
              "    .dataframe tbody tr th:only-of-type {\n",
              "        vertical-align: middle;\n",
              "    }\n",
              "\n",
              "    .dataframe tbody tr th {\n",
              "        vertical-align: top;\n",
              "    }\n",
              "\n",
              "    .dataframe thead th {\n",
              "        text-align: right;\n",
              "    }\n",
              "</style>\n",
              "<table border=\"1\" class=\"dataframe\">\n",
              "  <thead>\n",
              "    <tr style=\"text-align: right;\">\n",
              "      <th></th>\n",
              "      <th>Comments</th>\n",
              "      <th>Surrounding Code Context</th>\n",
              "      <th>Class</th>\n",
              "    </tr>\n",
              "  </thead>\n",
              "  <tbody>\n",
              "    <tr>\n",
              "      <th>0</th>\n",
              "      <td>/*test 529*/</td>\n",
              "      <td>-10.   int res = 0;\\n-9.   CURL *curl = NULL;\\...</td>\n",
              "      <td>Not Useful</td>\n",
              "    </tr>\n",
              "    <tr>\n",
              "      <th>1</th>\n",
              "      <td>/*test 525*/</td>\n",
              "      <td>-2.     fprintf(stderr, \"Usage: lib529 [url] [...</td>\n",
              "      <td>Not Useful</td>\n",
              "    </tr>\n",
              "    <tr>\n",
              "      <th>2</th>\n",
              "      <td>/*done*/</td>\n",
              "      <td>-10.   multi_add_handle(m, curl);\\n-9.   for(;...</td>\n",
              "      <td>Not Useful</td>\n",
              "    </tr>\n",
              "    <tr>\n",
              "      <th>3</th>\n",
              "      <td>/*test 529*/</td>\n",
              "      <td>-10.   int res = 0;\\n-9.   CURL *curl = NULL;\\...</td>\n",
              "      <td>Not Useful</td>\n",
              "    </tr>\n",
              "    <tr>\n",
              "      <th>4</th>\n",
              "      <td>/*test 525*/</td>\n",
              "      <td>-2.     fprintf(stderr, \"Usage: lib529 [url] [...</td>\n",
              "      <td>Not Useful</td>\n",
              "    </tr>\n",
              "  </tbody>\n",
              "</table>\n",
              "</div>\n",
              "    <div class=\"colab-df-buttons\">\n",
              "\n",
              "  <div class=\"colab-df-container\">\n",
              "    <button class=\"colab-df-convert\" onclick=\"convertToInteractive('df-b74eb2f0-d2a4-4fae-b8e3-ee3024ebbb5d')\"\n",
              "            title=\"Convert this dataframe to an interactive table.\"\n",
              "            style=\"display:none;\">\n",
              "\n",
              "  <svg xmlns=\"http://www.w3.org/2000/svg\" height=\"24px\" viewBox=\"0 -960 960 960\">\n",
              "    <path d=\"M120-120v-720h720v720H120Zm60-500h600v-160H180v160Zm220 220h160v-160H400v160Zm0 220h160v-160H400v160ZM180-400h160v-160H180v160Zm440 0h160v-160H620v160ZM180-180h160v-160H180v160Zm440 0h160v-160H620v160Z\"/>\n",
              "  </svg>\n",
              "    </button>\n",
              "\n",
              "  <style>\n",
              "    .colab-df-container {\n",
              "      display:flex;\n",
              "      gap: 12px;\n",
              "    }\n",
              "\n",
              "    .colab-df-convert {\n",
              "      background-color: #E8F0FE;\n",
              "      border: none;\n",
              "      border-radius: 50%;\n",
              "      cursor: pointer;\n",
              "      display: none;\n",
              "      fill: #1967D2;\n",
              "      height: 32px;\n",
              "      padding: 0 0 0 0;\n",
              "      width: 32px;\n",
              "    }\n",
              "\n",
              "    .colab-df-convert:hover {\n",
              "      background-color: #E2EBFA;\n",
              "      box-shadow: 0px 1px 2px rgba(60, 64, 67, 0.3), 0px 1px 3px 1px rgba(60, 64, 67, 0.15);\n",
              "      fill: #174EA6;\n",
              "    }\n",
              "\n",
              "    .colab-df-buttons div {\n",
              "      margin-bottom: 4px;\n",
              "    }\n",
              "\n",
              "    [theme=dark] .colab-df-convert {\n",
              "      background-color: #3B4455;\n",
              "      fill: #D2E3FC;\n",
              "    }\n",
              "\n",
              "    [theme=dark] .colab-df-convert:hover {\n",
              "      background-color: #434B5C;\n",
              "      box-shadow: 0px 1px 3px 1px rgba(0, 0, 0, 0.15);\n",
              "      filter: drop-shadow(0px 1px 2px rgba(0, 0, 0, 0.3));\n",
              "      fill: #FFFFFF;\n",
              "    }\n",
              "  </style>\n",
              "\n",
              "    <script>\n",
              "      const buttonEl =\n",
              "        document.querySelector('#df-b74eb2f0-d2a4-4fae-b8e3-ee3024ebbb5d button.colab-df-convert');\n",
              "      buttonEl.style.display =\n",
              "        google.colab.kernel.accessAllowed ? 'block' : 'none';\n",
              "\n",
              "      async function convertToInteractive(key) {\n",
              "        const element = document.querySelector('#df-b74eb2f0-d2a4-4fae-b8e3-ee3024ebbb5d');\n",
              "        const dataTable =\n",
              "          await google.colab.kernel.invokeFunction('convertToInteractive',\n",
              "                                                    [key], {});\n",
              "        if (!dataTable) return;\n",
              "\n",
              "        const docLinkHtml = 'Like what you see? Visit the ' +\n",
              "          '<a target=\"_blank\" href=https://colab.research.google.com/notebooks/data_table.ipynb>data table notebook</a>'\n",
              "          + ' to learn more about interactive tables.';\n",
              "        element.innerHTML = '';\n",
              "        dataTable['output_type'] = 'display_data';\n",
              "        await google.colab.output.renderOutput(dataTable, element);\n",
              "        const docLink = document.createElement('div');\n",
              "        docLink.innerHTML = docLinkHtml;\n",
              "        element.appendChild(docLink);\n",
              "      }\n",
              "    </script>\n",
              "  </div>\n",
              "\n",
              "\n",
              "<div id=\"df-22e021f8-c3fa-4626-b893-07b8378e7f35\">\n",
              "  <button class=\"colab-df-quickchart\" onclick=\"quickchart('df-22e021f8-c3fa-4626-b893-07b8378e7f35')\"\n",
              "            title=\"Suggest charts\"\n",
              "            style=\"display:none;\">\n",
              "\n",
              "<svg xmlns=\"http://www.w3.org/2000/svg\" height=\"24px\"viewBox=\"0 0 24 24\"\n",
              "     width=\"24px\">\n",
              "    <g>\n",
              "        <path d=\"M19 3H5c-1.1 0-2 .9-2 2v14c0 1.1.9 2 2 2h14c1.1 0 2-.9 2-2V5c0-1.1-.9-2-2-2zM9 17H7v-7h2v7zm4 0h-2V7h2v10zm4 0h-2v-4h2v4z\"/>\n",
              "    </g>\n",
              "</svg>\n",
              "  </button>\n",
              "\n",
              "<style>\n",
              "  .colab-df-quickchart {\n",
              "      --bg-color: #E8F0FE;\n",
              "      --fill-color: #1967D2;\n",
              "      --hover-bg-color: #E2EBFA;\n",
              "      --hover-fill-color: #174EA6;\n",
              "      --disabled-fill-color: #AAA;\n",
              "      --disabled-bg-color: #DDD;\n",
              "  }\n",
              "\n",
              "  [theme=dark] .colab-df-quickchart {\n",
              "      --bg-color: #3B4455;\n",
              "      --fill-color: #D2E3FC;\n",
              "      --hover-bg-color: #434B5C;\n",
              "      --hover-fill-color: #FFFFFF;\n",
              "      --disabled-bg-color: #3B4455;\n",
              "      --disabled-fill-color: #666;\n",
              "  }\n",
              "\n",
              "  .colab-df-quickchart {\n",
              "    background-color: var(--bg-color);\n",
              "    border: none;\n",
              "    border-radius: 50%;\n",
              "    cursor: pointer;\n",
              "    display: none;\n",
              "    fill: var(--fill-color);\n",
              "    height: 32px;\n",
              "    padding: 0;\n",
              "    width: 32px;\n",
              "  }\n",
              "\n",
              "  .colab-df-quickchart:hover {\n",
              "    background-color: var(--hover-bg-color);\n",
              "    box-shadow: 0 1px 2px rgba(60, 64, 67, 0.3), 0 1px 3px 1px rgba(60, 64, 67, 0.15);\n",
              "    fill: var(--button-hover-fill-color);\n",
              "  }\n",
              "\n",
              "  .colab-df-quickchart-complete:disabled,\n",
              "  .colab-df-quickchart-complete:disabled:hover {\n",
              "    background-color: var(--disabled-bg-color);\n",
              "    fill: var(--disabled-fill-color);\n",
              "    box-shadow: none;\n",
              "  }\n",
              "\n",
              "  .colab-df-spinner {\n",
              "    border: 2px solid var(--fill-color);\n",
              "    border-color: transparent;\n",
              "    border-bottom-color: var(--fill-color);\n",
              "    animation:\n",
              "      spin 1s steps(1) infinite;\n",
              "  }\n",
              "\n",
              "  @keyframes spin {\n",
              "    0% {\n",
              "      border-color: transparent;\n",
              "      border-bottom-color: var(--fill-color);\n",
              "      border-left-color: var(--fill-color);\n",
              "    }\n",
              "    20% {\n",
              "      border-color: transparent;\n",
              "      border-left-color: var(--fill-color);\n",
              "      border-top-color: var(--fill-color);\n",
              "    }\n",
              "    30% {\n",
              "      border-color: transparent;\n",
              "      border-left-color: var(--fill-color);\n",
              "      border-top-color: var(--fill-color);\n",
              "      border-right-color: var(--fill-color);\n",
              "    }\n",
              "    40% {\n",
              "      border-color: transparent;\n",
              "      border-right-color: var(--fill-color);\n",
              "      border-top-color: var(--fill-color);\n",
              "    }\n",
              "    60% {\n",
              "      border-color: transparent;\n",
              "      border-right-color: var(--fill-color);\n",
              "    }\n",
              "    80% {\n",
              "      border-color: transparent;\n",
              "      border-right-color: var(--fill-color);\n",
              "      border-bottom-color: var(--fill-color);\n",
              "    }\n",
              "    90% {\n",
              "      border-color: transparent;\n",
              "      border-bottom-color: var(--fill-color);\n",
              "    }\n",
              "  }\n",
              "</style>\n",
              "\n",
              "  <script>\n",
              "    async function quickchart(key) {\n",
              "      const quickchartButtonEl =\n",
              "        document.querySelector('#' + key + ' button');\n",
              "      quickchartButtonEl.disabled = true;  // To prevent multiple clicks.\n",
              "      quickchartButtonEl.classList.add('colab-df-spinner');\n",
              "      try {\n",
              "        const charts = await google.colab.kernel.invokeFunction(\n",
              "            'suggestCharts', [key], {});\n",
              "      } catch (error) {\n",
              "        console.error('Error during call to suggestCharts:', error);\n",
              "      }\n",
              "      quickchartButtonEl.classList.remove('colab-df-spinner');\n",
              "      quickchartButtonEl.classList.add('colab-df-quickchart-complete');\n",
              "    }\n",
              "    (() => {\n",
              "      let quickchartButtonEl =\n",
              "        document.querySelector('#df-22e021f8-c3fa-4626-b893-07b8378e7f35 button');\n",
              "      quickchartButtonEl.style.display =\n",
              "        google.colab.kernel.accessAllowed ? 'block' : 'none';\n",
              "    })();\n",
              "  </script>\n",
              "</div>\n",
              "    </div>\n",
              "  </div>\n"
            ],
            "application/vnd.google.colaboratory.intrinsic+json": {
              "type": "dataframe",
              "variable_name": "full_data",
              "summary": "{\n  \"name\": \"full_data\",\n  \"rows\": 16872,\n  \"fields\": [\n    {\n      \"column\": \"Comments\",\n      \"properties\": {\n        \"dtype\": \"string\",\n        \"samples\": [\n          \"/*Optional call to update the users info_ptr structure*/\",\n          \"/*Query the security package for Kerberos*/\",\n          \"// Calculation of Variable in the line of code:\\n// while XlKS23FXt = 50;\"\n        ],\n        \"num_unique_values\": 11799,\n        \"semantic_type\": \"\",\n        \"description\": \"\"\n      }\n    },\n    {\n      \"column\": \"Surrounding Code Context\",\n      \"properties\": {\n        \"dtype\": \"string\",\n        \"samples\": [\n          \"-10.     char  *xspec, *yspec, *labx, *laby, *labtop;\\n-9.     PLINT y_ascl, acc, colbox, collab;\\n-8.     PLFLT xlpos, ylpos;\\n-7.     PLFLT *x[PEN], *y[PEN];\\n-6.     PLINT npts[PEN], nptsmax[PEN];\\n-5.     PLINT colline[PEN], styline[PEN];\\n-4.     char  *le\",\n          \"-2. png_push_read_sig(png_structrp png_ptr, png_inforp info_ptr)\\n-1. {\\n\\n/*SAFE, does not exceed 8*/\\n\\n1.        num_to_check = 8 - num_checked;\\n2.    if (png_ptr->buffer_size < num_to_check)\\n3.    {\\n4.       num_to_check = png_ptr->buffer_size;\\n5.    }\\n6. \",\n          \"enum P;\"\n        ],\n        \"num_unique_values\": 13087,\n        \"semantic_type\": \"\",\n        \"description\": \"\"\n      }\n    },\n    {\n      \"column\": \"Class\",\n      \"properties\": {\n        \"dtype\": \"category\",\n        \"samples\": [\n          \"Useful\",\n          \"Not Useful\"\n        ],\n        \"num_unique_values\": 2,\n        \"semantic_type\": \"\",\n        \"description\": \"\"\n      }\n    }\n  ]\n}"
            }
          },
          "metadata": {},
          "execution_count": 25
        }
      ]
    },
    {
      "cell_type": "code",
      "source": [
        "# now re-apply data transformation on entire dataset and prepare for training\n",
        "full_data.loc[:,[\"Class\"]] = pd.get_dummies(full_data.Class,drop_first=True).values\n",
        "\n",
        "full_data[\"Input\"] = full_data[\"Comments\"] + \" \" + full_data[\"Surrounding Code Context\"]"
      ],
      "metadata": {
        "id": "zMrJ6yf5yYhI",
        "colab": {
          "base_uri": "https://localhost:8080/"
        },
        "outputId": "835dfe2c-befa-4368-a8ba-1a54dd864642"
      },
      "execution_count": 26,
      "outputs": [
        {
          "output_type": "stream",
          "name": "stderr",
          "text": [
            "<ipython-input-26-f5789c578e43>:2: DeprecationWarning: In a future version, `df.iloc[:, i] = newvals` will attempt to set the values inplace instead of always setting a new array. To retain the old behavior, use either `df[df.columns[i]] = newvals` or, if columns are non-unique, `df.isetitem(i, newvals)`\n",
            "  full_data.loc[:,[\"Class\"]] = pd.get_dummies(full_data.Class,drop_first=True).values\n"
          ]
        }
      ]
    },
    {
      "cell_type": "code",
      "source": [
        "!pip install sentence-transformers"
      ],
      "metadata": {
        "colab": {
          "base_uri": "https://localhost:8080/"
        },
        "id": "9zldDVqOzdo2",
        "outputId": "f1f43cba-55f0-4044-8421-2a9ff632e5de"
      },
      "execution_count": 7,
      "outputs": [
        {
          "output_type": "stream",
          "name": "stdout",
          "text": [
            "Collecting sentence-transformers\n",
            "  Downloading sentence_transformers-2.3.1-py3-none-any.whl (132 kB)\n",
            "\u001b[?25l     \u001b[90m━━━━━━━━━━━━━━━━━━━━━━━━━━━━━━━━━━━━━━━━\u001b[0m \u001b[32m0.0/132.8 kB\u001b[0m \u001b[31m?\u001b[0m eta \u001b[36m-:--:--\u001b[0m\r\u001b[2K     \u001b[90m━━━━━━━━━━━━━━━━━━━━━━━━━━━━━━━━━━━━━━━━\u001b[0m \u001b[32m132.8/132.8 kB\u001b[0m \u001b[31m4.4 MB/s\u001b[0m eta \u001b[36m0:00:00\u001b[0m\n",
            "\u001b[?25hRequirement already satisfied: transformers<5.0.0,>=4.32.0 in /usr/local/lib/python3.10/dist-packages (from sentence-transformers) (4.35.2)\n",
            "Requirement already satisfied: tqdm in /usr/local/lib/python3.10/dist-packages (from sentence-transformers) (4.66.1)\n",
            "Requirement already satisfied: torch>=1.11.0 in /usr/local/lib/python3.10/dist-packages (from sentence-transformers) (2.1.0+cu121)\n",
            "Requirement already satisfied: numpy in /usr/local/lib/python3.10/dist-packages (from sentence-transformers) (1.25.2)\n",
            "Requirement already satisfied: scikit-learn in /usr/local/lib/python3.10/dist-packages (from sentence-transformers) (1.2.2)\n",
            "Requirement already satisfied: scipy in /usr/local/lib/python3.10/dist-packages (from sentence-transformers) (1.11.4)\n",
            "Requirement already satisfied: nltk in /usr/local/lib/python3.10/dist-packages (from sentence-transformers) (3.8.1)\n",
            "Requirement already satisfied: sentencepiece in /usr/local/lib/python3.10/dist-packages (from sentence-transformers) (0.1.99)\n",
            "Requirement already satisfied: huggingface-hub>=0.15.1 in /usr/local/lib/python3.10/dist-packages (from sentence-transformers) (0.20.3)\n",
            "Requirement already satisfied: Pillow in /usr/local/lib/python3.10/dist-packages (from sentence-transformers) (9.4.0)\n",
            "Requirement already satisfied: filelock in /usr/local/lib/python3.10/dist-packages (from huggingface-hub>=0.15.1->sentence-transformers) (3.13.1)\n",
            "Requirement already satisfied: fsspec>=2023.5.0 in /usr/local/lib/python3.10/dist-packages (from huggingface-hub>=0.15.1->sentence-transformers) (2023.6.0)\n",
            "Requirement already satisfied: requests in /usr/local/lib/python3.10/dist-packages (from huggingface-hub>=0.15.1->sentence-transformers) (2.31.0)\n",
            "Requirement already satisfied: pyyaml>=5.1 in /usr/local/lib/python3.10/dist-packages (from huggingface-hub>=0.15.1->sentence-transformers) (6.0.1)\n",
            "Requirement already satisfied: typing-extensions>=3.7.4.3 in /usr/local/lib/python3.10/dist-packages (from huggingface-hub>=0.15.1->sentence-transformers) (4.9.0)\n",
            "Requirement already satisfied: packaging>=20.9 in /usr/local/lib/python3.10/dist-packages (from huggingface-hub>=0.15.1->sentence-transformers) (23.2)\n",
            "Requirement already satisfied: sympy in /usr/local/lib/python3.10/dist-packages (from torch>=1.11.0->sentence-transformers) (1.12)\n",
            "Requirement already satisfied: networkx in /usr/local/lib/python3.10/dist-packages (from torch>=1.11.0->sentence-transformers) (3.2.1)\n",
            "Requirement already satisfied: jinja2 in /usr/local/lib/python3.10/dist-packages (from torch>=1.11.0->sentence-transformers) (3.1.3)\n",
            "Requirement already satisfied: triton==2.1.0 in /usr/local/lib/python3.10/dist-packages (from torch>=1.11.0->sentence-transformers) (2.1.0)\n",
            "Requirement already satisfied: regex!=2019.12.17 in /usr/local/lib/python3.10/dist-packages (from transformers<5.0.0,>=4.32.0->sentence-transformers) (2023.12.25)\n",
            "Requirement already satisfied: tokenizers<0.19,>=0.14 in /usr/local/lib/python3.10/dist-packages (from transformers<5.0.0,>=4.32.0->sentence-transformers) (0.15.1)\n",
            "Requirement already satisfied: safetensors>=0.3.1 in /usr/local/lib/python3.10/dist-packages (from transformers<5.0.0,>=4.32.0->sentence-transformers) (0.4.2)\n",
            "Requirement already satisfied: click in /usr/local/lib/python3.10/dist-packages (from nltk->sentence-transformers) (8.1.7)\n",
            "Requirement already satisfied: joblib in /usr/local/lib/python3.10/dist-packages (from nltk->sentence-transformers) (1.3.2)\n",
            "Requirement already satisfied: threadpoolctl>=2.0.0 in /usr/local/lib/python3.10/dist-packages (from scikit-learn->sentence-transformers) (3.2.0)\n",
            "Requirement already satisfied: MarkupSafe>=2.0 in /usr/local/lib/python3.10/dist-packages (from jinja2->torch>=1.11.0->sentence-transformers) (2.1.5)\n",
            "Requirement already satisfied: charset-normalizer<4,>=2 in /usr/local/lib/python3.10/dist-packages (from requests->huggingface-hub>=0.15.1->sentence-transformers) (3.3.2)\n",
            "Requirement already satisfied: idna<4,>=2.5 in /usr/local/lib/python3.10/dist-packages (from requests->huggingface-hub>=0.15.1->sentence-transformers) (3.6)\n",
            "Requirement already satisfied: urllib3<3,>=1.21.1 in /usr/local/lib/python3.10/dist-packages (from requests->huggingface-hub>=0.15.1->sentence-transformers) (2.0.7)\n",
            "Requirement already satisfied: certifi>=2017.4.17 in /usr/local/lib/python3.10/dist-packages (from requests->huggingface-hub>=0.15.1->sentence-transformers) (2024.2.2)\n",
            "Requirement already satisfied: mpmath>=0.19 in /usr/local/lib/python3.10/dist-packages (from sympy->torch>=1.11.0->sentence-transformers) (1.3.0)\n",
            "Installing collected packages: sentence-transformers\n",
            "Successfully installed sentence-transformers-2.3.1\n"
          ]
        }
      ]
    },
    {
      "cell_type": "code",
      "source": [
        "from sentence_transformers import SentenceTransformer, util\n",
        "\n",
        "model = SentenceTransformer(\"flax-sentence-embeddings/st-codesearch-distilroberta-base\")\n",
        "\n",
        "# Encode our code into the vector space\n",
        "code_emb = model.encode(full_data[\"Input\"].astype(str).values.tolist(), convert_to_tensor=True)"
      ],
      "metadata": {
        "id": "0wa8re_lzeF_"
      },
      "execution_count": 27,
      "outputs": []
    },
    {
      "cell_type": "code",
      "source": [
        "# use SMOTE to balance dataset\n",
        "# and generate enough \"Not Useful\" comment data\n",
        "!pip install imbalanced-learn"
      ],
      "metadata": {
        "colab": {
          "base_uri": "https://localhost:8080/"
        },
        "id": "g-DEsb00ziJ0",
        "outputId": "a964dff0-84fb-40ee-f0e5-5014e81c5353"
      },
      "execution_count": 9,
      "outputs": [
        {
          "output_type": "stream",
          "name": "stdout",
          "text": [
            "Requirement already satisfied: imbalanced-learn in /usr/local/lib/python3.10/dist-packages (0.10.1)\n",
            "Requirement already satisfied: numpy>=1.17.3 in /usr/local/lib/python3.10/dist-packages (from imbalanced-learn) (1.25.2)\n",
            "Requirement already satisfied: scipy>=1.3.2 in /usr/local/lib/python3.10/dist-packages (from imbalanced-learn) (1.11.4)\n",
            "Requirement already satisfied: scikit-learn>=1.0.2 in /usr/local/lib/python3.10/dist-packages (from imbalanced-learn) (1.2.2)\n",
            "Requirement already satisfied: joblib>=1.1.1 in /usr/local/lib/python3.10/dist-packages (from imbalanced-learn) (1.3.2)\n",
            "Requirement already satisfied: threadpoolctl>=2.0.0 in /usr/local/lib/python3.10/dist-packages (from imbalanced-learn) (3.2.0)\n"
          ]
        }
      ]
    },
    {
      "cell_type": "code",
      "source": [
        "from collections import Counter\n",
        "from imblearn.over_sampling import SMOTE\n",
        "oversample = SMOTE()\n",
        "Y = full_data['Class']\n",
        "Y=Y.astype('int')\n",
        "X = code_emb.tolist()\n",
        "counter = Counter(Y)\n",
        "print(counter)\n",
        "X, y = oversample.fit_resample(X, Y)\n",
        "# summarize the new class distribution\n",
        "counter = Counter(y)\n",
        "print(counter)"
      ],
      "metadata": {
        "colab": {
          "base_uri": "https://localhost:8080/"
        },
        "id": "KWHmXe0MztY_",
        "outputId": "5ad5b767-c611-4b3f-b444-e5b8dc514f3b"
      },
      "execution_count": 28,
      "outputs": [
        {
          "output_type": "stream",
          "name": "stdout",
          "text": [
            "Counter({1: 10047, 0: 6825})\n",
            "Counter({0: 10047, 1: 10047})\n"
          ]
        }
      ]
    },
    {
      "cell_type": "code",
      "source": [
        "# classification report on CV with VotingClassifier\n",
        "import numpy as np\n",
        "from sklearn.model_selection import cross_validate, cross_val_predict\n",
        "from sklearn.model_selection import RepeatedStratifiedKFold\n",
        "from sklearn.ensemble import VotingClassifier\n",
        "from sklearn.svm import LinearSVC\n",
        "from sklearn.ensemble import RandomForestClassifier\n",
        "from sklearn.neural_network import MLPClassifier\n",
        "from sklearn.semi_supervised import SelfTrainingClassifier\n",
        "from sklearn.metrics import accuracy_score, f1_score, precision_score, recall_score, classification_report, make_scorer\n",
        "\n",
        "# prepare candidate classifiers\n",
        "rf_model = RandomForestClassifier(random_state = 42)\n",
        "nn_model = MLPClassifier(hidden_layer_sizes=(20,10),random_state=42)\n",
        "svc_model = LinearSVC(random_state = 42)\n",
        "\n",
        "# define model\n",
        "model =  VotingClassifier(estimators=[('rf', rf_model), ('nn', nn_model), ('svc', svc_model)], voting='hard')\n",
        "\n",
        "classification_report_list = []\n",
        "# evaluate pipeline\n",
        "cv = RepeatedStratifiedKFold(n_splits=10, n_repeats=3, random_state=42)\n",
        "for train_index, test_index in cv.split(X, y):\n",
        "    x_train, x_test = np.array(X)[train_index], np.array(X)[test_index]\n",
        "    y_train, y_test = y[train_index], y[test_index]\n",
        "    model.fit(x_train, y_train)\n",
        "    y_pred = model.predict(x_test)\n",
        "    print(\"*** K-Fold Split Results ***\")\n",
        "    classification_report_results = classification_report(y_test, y_pred, output_dict=True)\n",
        "    print(classification_report_results)\n",
        "    classification_report_list.append(classification_report_results)"
      ],
      "metadata": {
        "colab": {
          "base_uri": "https://localhost:8080/"
        },
        "id": "vKg3_54NlMqN",
        "outputId": "8506e611-800d-489a-e2ae-71d3afa46bc2"
      },
      "execution_count": 33,
      "outputs": [
        {
          "output_type": "stream",
          "name": "stderr",
          "text": [
            "/usr/local/lib/python3.10/dist-packages/sklearn/neural_network/_multilayer_perceptron.py:686: ConvergenceWarning: Stochastic Optimizer: Maximum iterations (200) reached and the optimization hasn't converged yet.\n",
            "  warnings.warn(\n"
          ]
        },
        {
          "output_type": "stream",
          "name": "stdout",
          "text": [
            "*** K-Fold Split Results ***\n",
            "{'0': {'precision': 0.9331941544885177, 'recall': 0.8895522388059701, 'f1-score': 0.9108507386653082, 'support': 1005}, '1': {'precision': 0.8944866920152091, 'recall': 0.936318407960199, 'f1-score': 0.9149246475449684, 'support': 1005}, 'accuracy': 0.9129353233830846, 'macro avg': {'precision': 0.9138404232518634, 'recall': 0.9129353233830846, 'f1-score': 0.9128876931051383, 'support': 2010}, 'weighted avg': {'precision': 0.9138404232518634, 'recall': 0.9129353233830846, 'f1-score': 0.9128876931051384, 'support': 2010}}\n"
          ]
        },
        {
          "output_type": "stream",
          "name": "stderr",
          "text": [
            "/usr/local/lib/python3.10/dist-packages/sklearn/neural_network/_multilayer_perceptron.py:686: ConvergenceWarning: Stochastic Optimizer: Maximum iterations (200) reached and the optimization hasn't converged yet.\n",
            "  warnings.warn(\n"
          ]
        },
        {
          "output_type": "stream",
          "name": "stdout",
          "text": [
            "*** K-Fold Split Results ***\n",
            "{'0': {'precision': 0.911, 'recall': 0.9064676616915422, 'f1-score': 0.9087281795511223, 'support': 1005}, '1': {'precision': 0.906930693069307, 'recall': 0.9114427860696518, 'f1-score': 0.909181141439206, 'support': 1005}, 'accuracy': 0.908955223880597, 'macro avg': {'precision': 0.9089653465346534, 'recall': 0.908955223880597, 'f1-score': 0.9089546604951642, 'support': 2010}, 'weighted avg': {'precision': 0.9089653465346536, 'recall': 0.908955223880597, 'f1-score': 0.9089546604951642, 'support': 2010}}\n",
            "*** K-Fold Split Results ***\n",
            "{'0': {'precision': 0.9107142857142857, 'recall': 0.9134328358208955, 'f1-score': 0.9120715350223547, 'support': 1005}, '1': {'precision': 0.9131736526946108, 'recall': 0.9104477611940298, 'f1-score': 0.9118086696562033, 'support': 1005}, 'accuracy': 0.9119402985074627, 'macro avg': {'precision': 0.9119439692044482, 'recall': 0.9119402985074627, 'f1-score': 0.911940102339279, 'support': 2010}, 'weighted avg': {'precision': 0.9119439692044482, 'recall': 0.9119402985074627, 'f1-score': 0.9119401023392789, 'support': 2010}}\n"
          ]
        },
        {
          "output_type": "stream",
          "name": "stderr",
          "text": [
            "/usr/local/lib/python3.10/dist-packages/sklearn/neural_network/_multilayer_perceptron.py:686: ConvergenceWarning: Stochastic Optimizer: Maximum iterations (200) reached and the optimization hasn't converged yet.\n",
            "  warnings.warn(\n"
          ]
        },
        {
          "output_type": "stream",
          "name": "stdout",
          "text": [
            "*** K-Fold Split Results ***\n",
            "{'0': {'precision': 0.9060077519379846, 'recall': 0.9303482587064676, 'f1-score': 0.9180166912125675, 'support': 1005}, '1': {'precision': 0.9284253578732107, 'recall': 0.9034825870646767, 'f1-score': 0.9157841654059506, 'support': 1005}, 'accuracy': 0.9169154228855722, 'macro avg': {'precision': 0.9172165549055976, 'recall': 0.9169154228855722, 'f1-score': 0.916900428309259, 'support': 2010}, 'weighted avg': {'precision': 0.9172165549055976, 'recall': 0.9169154228855722, 'f1-score': 0.9169004283092591, 'support': 2010}}\n"
          ]
        },
        {
          "output_type": "stream",
          "name": "stderr",
          "text": [
            "/usr/local/lib/python3.10/dist-packages/sklearn/neural_network/_multilayer_perceptron.py:686: ConvergenceWarning: Stochastic Optimizer: Maximum iterations (200) reached and the optimization hasn't converged yet.\n",
            "  warnings.warn(\n"
          ]
        },
        {
          "output_type": "stream",
          "name": "stdout",
          "text": [
            "*** K-Fold Split Results ***\n",
            "{'0': {'precision': 0.9241025641025641, 'recall': 0.8965174129353234, 'f1-score': 0.9101010101010101, 'support': 1005}, '1': {'precision': 0.8994197292069632, 'recall': 0.9262948207171314, 'f1-score': 0.9126594700686946, 'support': 1004}, 'accuracy': 0.9113987058237929, 'macro avg': {'precision': 0.9117611466547637, 'recall': 0.9114061168262274, 'f1-score': 0.9113802400848523, 'support': 2009}, 'weighted avg': {'precision': 0.9117672897196953, 'recall': 0.9113987058237929, 'f1-score': 0.9113796033352337, 'support': 2009}}\n"
          ]
        },
        {
          "output_type": "stream",
          "name": "stderr",
          "text": [
            "/usr/local/lib/python3.10/dist-packages/sklearn/neural_network/_multilayer_perceptron.py:686: ConvergenceWarning: Stochastic Optimizer: Maximum iterations (200) reached and the optimization hasn't converged yet.\n",
            "  warnings.warn(\n"
          ]
        },
        {
          "output_type": "stream",
          "name": "stdout",
          "text": [
            "*** K-Fold Split Results ***\n",
            "{'0': {'precision': 0.9192734611503531, 'recall': 0.9064676616915422, 'f1-score': 0.9128256513026051, 'support': 1005}, '1': {'precision': 0.9076620825147348, 'recall': 0.9203187250996016, 'f1-score': 0.9139465875370919, 'support': 1004}, 'accuracy': 0.9133897461423593, 'macro avg': {'precision': 0.9134677718325439, 'recall': 0.9133931933955719, 'f1-score': 0.9133861194198485, 'support': 2009}, 'weighted avg': {'precision': 0.9134706616729211, 'recall': 0.9133897461423593, 'f1-score': 0.9133858404411938, 'support': 2009}}\n"
          ]
        },
        {
          "output_type": "stream",
          "name": "stderr",
          "text": [
            "/usr/local/lib/python3.10/dist-packages/sklearn/neural_network/_multilayer_perceptron.py:686: ConvergenceWarning: Stochastic Optimizer: Maximum iterations (200) reached and the optimization hasn't converged yet.\n",
            "  warnings.warn(\n"
          ]
        },
        {
          "output_type": "stream",
          "name": "stdout",
          "text": [
            "*** K-Fold Split Results ***\n",
            "{'0': {'precision': 0.9203539823008849, 'recall': 0.9313432835820895, 'f1-score': 0.9258160237388724, 'support': 1005}, '1': {'precision': 0.9304435483870968, 'recall': 0.9193227091633466, 'f1-score': 0.9248496993987975, 'support': 1004}, 'accuracy': 0.925335988053758, 'macro avg': {'precision': 0.9253987653439908, 'recall': 0.925332996372718, 'f1-score': 0.925332861568835, 'support': 2009}, 'weighted avg': {'precision': 0.9253962542523815, 'recall': 0.925335988053758, 'f1-score': 0.925333102067675, 'support': 2009}}\n",
            "*** K-Fold Split Results ***\n",
            "{'0': {'precision': 0.9132602193419741, 'recall': 0.9123505976095617, 'f1-score': 0.9128051818634778, 'support': 1004}, '1': {'precision': 0.9125248508946322, 'recall': 0.9134328358208955, 'f1-score': 0.9129786176031824, 'support': 1005}, 'accuracy': 0.9128919860627178, 'macro avg': {'precision': 0.9128925351183032, 'recall': 0.9128917167152286, 'f1-score': 0.9128918997333302, 'support': 2009}, 'weighted avg': {'precision': 0.9128923520997747, 'recall': 0.9128919860627178, 'f1-score': 0.9128919428980239, 'support': 2009}}\n"
          ]
        },
        {
          "output_type": "stream",
          "name": "stderr",
          "text": [
            "/usr/local/lib/python3.10/dist-packages/sklearn/neural_network/_multilayer_perceptron.py:686: ConvergenceWarning: Stochastic Optimizer: Maximum iterations (200) reached and the optimization hasn't converged yet.\n",
            "  warnings.warn(\n"
          ]
        },
        {
          "output_type": "stream",
          "name": "stdout",
          "text": [
            "*** K-Fold Split Results ***\n",
            "{'0': {'precision': 0.9156626506024096, 'recall': 0.9083665338645418, 'f1-score': 0.912, 'support': 1004}, '1': {'precision': 0.9091806515301086, 'recall': 0.9164179104477612, 'f1-score': 0.912784935579782, 'support': 1005}, 'accuracy': 0.9123942259830762, 'macro avg': {'precision': 0.912421651066259, 'recall': 0.9123922221561516, 'f1-score': 0.912392467789891, 'support': 2009}, 'weighted avg': {'precision': 0.9124200378260718, 'recall': 0.9123942259830762, 'f1-score': 0.9123926631446894, 'support': 2009}}\n"
          ]
        },
        {
          "output_type": "stream",
          "name": "stderr",
          "text": [
            "/usr/local/lib/python3.10/dist-packages/sklearn/neural_network/_multilayer_perceptron.py:686: ConvergenceWarning: Stochastic Optimizer: Maximum iterations (200) reached and the optimization hasn't converged yet.\n",
            "  warnings.warn(\n"
          ]
        },
        {
          "output_type": "stream",
          "name": "stdout",
          "text": [
            "*** K-Fold Split Results ***\n",
            "{'0': {'precision': 0.9219712525667351, 'recall': 0.8944223107569721, 'f1-score': 0.9079878665318504, 'support': 1004}, '1': {'precision': 0.8975845410628019, 'recall': 0.9243781094527364, 'f1-score': 0.9107843137254902, 'support': 1005}, 'accuracy': 0.9094076655052264, 'macro avg': {'precision': 0.9097778968147685, 'recall': 0.9094002101048542, 'f1-score': 0.9093860901286703, 'support': 2009}, 'weighted avg': {'precision': 0.9097718274490383, 'recall': 0.9094076655052264, 'f1-score': 0.9093867861085592, 'support': 2009}}\n"
          ]
        },
        {
          "output_type": "stream",
          "name": "stderr",
          "text": [
            "/usr/local/lib/python3.10/dist-packages/sklearn/neural_network/_multilayer_perceptron.py:686: ConvergenceWarning: Stochastic Optimizer: Maximum iterations (200) reached and the optimization hasn't converged yet.\n",
            "  warnings.warn(\n"
          ]
        },
        {
          "output_type": "stream",
          "name": "stdout",
          "text": [
            "*** K-Fold Split Results ***\n",
            "{'0': {'precision': 0.9221435793731041, 'recall': 0.9074626865671642, 'f1-score': 0.9147442326980944, 'support': 1005}, '1': {'precision': 0.9089128305582762, 'recall': 0.9233830845771144, 'f1-score': 0.9160908193484699, 'support': 1005}, 'accuracy': 0.9154228855721394, 'macro avg': {'precision': 0.9155282049656901, 'recall': 0.9154228855721394, 'f1-score': 0.9154175260232822, 'support': 2010}, 'weighted avg': {'precision': 0.9155282049656901, 'recall': 0.9154228855721394, 'f1-score': 0.9154175260232822, 'support': 2010}}\n"
          ]
        },
        {
          "output_type": "stream",
          "name": "stderr",
          "text": [
            "/usr/local/lib/python3.10/dist-packages/sklearn/neural_network/_multilayer_perceptron.py:686: ConvergenceWarning: Stochastic Optimizer: Maximum iterations (200) reached and the optimization hasn't converged yet.\n",
            "  warnings.warn(\n"
          ]
        },
        {
          "output_type": "stream",
          "name": "stdout",
          "text": [
            "*** K-Fold Split Results ***\n",
            "{'0': {'precision': 0.9285714285714286, 'recall': 0.8925373134328358, 'f1-score': 0.9101978691019788, 'support': 1005}, '1': {'precision': 0.896551724137931, 'recall': 0.9313432835820895, 'f1-score': 0.9136163982430454, 'support': 1005}, 'accuracy': 0.9119402985074627, 'macro avg': {'precision': 0.9125615763546798, 'recall': 0.9119402985074627, 'f1-score': 0.9119071336725121, 'support': 2010}, 'weighted avg': {'precision': 0.9125615763546798, 'recall': 0.9119402985074627, 'f1-score': 0.9119071336725121, 'support': 2010}}\n"
          ]
        },
        {
          "output_type": "stream",
          "name": "stderr",
          "text": [
            "/usr/local/lib/python3.10/dist-packages/sklearn/neural_network/_multilayer_perceptron.py:686: ConvergenceWarning: Stochastic Optimizer: Maximum iterations (200) reached and the optimization hasn't converged yet.\n",
            "  warnings.warn(\n"
          ]
        },
        {
          "output_type": "stream",
          "name": "stdout",
          "text": [
            "*** K-Fold Split Results ***\n",
            "{'0': {'precision': 0.9189463019250254, 'recall': 0.9024875621890547, 'f1-score': 0.9106425702811245, 'support': 1005}, '1': {'precision': 0.9042033235581622, 'recall': 0.9203980099502488, 'f1-score': 0.9122287968441815, 'support': 1005}, 'accuracy': 0.9114427860696518, 'macro avg': {'precision': 0.9115748127415938, 'recall': 0.9114427860696517, 'f1-score': 0.9114356835626529, 'support': 2010}, 'weighted avg': {'precision': 0.9115748127415938, 'recall': 0.9114427860696518, 'f1-score': 0.9114356835626529, 'support': 2010}}\n"
          ]
        },
        {
          "output_type": "stream",
          "name": "stderr",
          "text": [
            "/usr/local/lib/python3.10/dist-packages/sklearn/neural_network/_multilayer_perceptron.py:686: ConvergenceWarning: Stochastic Optimizer: Maximum iterations (200) reached and the optimization hasn't converged yet.\n",
            "  warnings.warn(\n"
          ]
        },
        {
          "output_type": "stream",
          "name": "stdout",
          "text": [
            "*** K-Fold Split Results ***\n",
            "{'0': {'precision': 0.9067713444553483, 'recall': 0.9194029850746268, 'f1-score': 0.9130434782608694, 'support': 1005}, '1': {'precision': 0.9182643794147326, 'recall': 0.9054726368159204, 'f1-score': 0.9118236472945891, 'support': 1005}, 'accuracy': 0.9124378109452737, 'macro avg': {'precision': 0.9125178619350405, 'recall': 0.9124378109452735, 'f1-score': 0.9124335627777292, 'support': 2010}, 'weighted avg': {'precision': 0.9125178619350405, 'recall': 0.9124378109452737, 'f1-score': 0.9124335627777294, 'support': 2010}}\n"
          ]
        },
        {
          "output_type": "stream",
          "name": "stderr",
          "text": [
            "/usr/local/lib/python3.10/dist-packages/sklearn/neural_network/_multilayer_perceptron.py:686: ConvergenceWarning: Stochastic Optimizer: Maximum iterations (200) reached and the optimization hasn't converged yet.\n",
            "  warnings.warn(\n"
          ]
        },
        {
          "output_type": "stream",
          "name": "stdout",
          "text": [
            "*** K-Fold Split Results ***\n",
            "{'0': {'precision': 0.9226856561546287, 'recall': 0.9024875621890547, 'f1-score': 0.9124748490945674, 'support': 1005}, '1': {'precision': 0.9044834307992202, 'recall': 0.9243027888446215, 'f1-score': 0.9142857142857141, 'support': 1004}, 'accuracy': 0.9133897461423593, 'macro avg': {'precision': 0.9135845434769245, 'recall': 0.9133951755168381, 'f1-score': 0.9133802816901408, 'support': 2009}, 'weighted avg': {'precision': 0.9135890736474958, 'recall': 0.9133897461423593, 'f1-score': 0.91337983100194, 'support': 2009}}\n"
          ]
        },
        {
          "output_type": "stream",
          "name": "stderr",
          "text": [
            "/usr/local/lib/python3.10/dist-packages/sklearn/neural_network/_multilayer_perceptron.py:686: ConvergenceWarning: Stochastic Optimizer: Maximum iterations (200) reached and the optimization hasn't converged yet.\n",
            "  warnings.warn(\n"
          ]
        },
        {
          "output_type": "stream",
          "name": "stdout",
          "text": [
            "*** K-Fold Split Results ***\n",
            "{'0': {'precision': 0.917753259779338, 'recall': 0.9104477611940298, 'f1-score': 0.914085914085914, 'support': 1005}, '1': {'precision': 0.9110671936758893, 'recall': 0.9183266932270916, 'f1-score': 0.9146825396825397, 'support': 1004}, 'accuracy': 0.9143852663016426, 'macro avg': {'precision': 0.9144102267276136, 'recall': 0.9143872272105606, 'f1-score': 0.9143842268842268, 'support': 2009}, 'weighted avg': {'precision': 0.9144118907560117, 'recall': 0.9143852663016426, 'f1-score': 0.9143840783960245, 'support': 2009}}\n"
          ]
        },
        {
          "output_type": "stream",
          "name": "stderr",
          "text": [
            "/usr/local/lib/python3.10/dist-packages/sklearn/neural_network/_multilayer_perceptron.py:686: ConvergenceWarning: Stochastic Optimizer: Maximum iterations (200) reached and the optimization hasn't converged yet.\n",
            "  warnings.warn(\n"
          ]
        },
        {
          "output_type": "stream",
          "name": "stdout",
          "text": [
            "*** K-Fold Split Results ***\n",
            "{'0': {'precision': 0.9318413021363174, 'recall': 0.9114427860696518, 'f1-score': 0.9215291750503017, 'support': 1005}, '1': {'precision': 0.9132553606237817, 'recall': 0.9332669322709163, 'f1-score': 0.9231527093596058, 'support': 1004}, 'accuracy': 0.9223494275759084, 'macro avg': {'precision': 0.9225483313800495, 'recall': 0.922354859170284, 'f1-score': 0.9223409422049538, 'support': 2009}, 'weighted avg': {'precision': 0.9225529570499134, 'recall': 0.9223494275759084, 'f1-score': 0.9223405381396703, 'support': 2009}}\n"
          ]
        },
        {
          "output_type": "stream",
          "name": "stderr",
          "text": [
            "/usr/local/lib/python3.10/dist-packages/sklearn/neural_network/_multilayer_perceptron.py:686: ConvergenceWarning: Stochastic Optimizer: Maximum iterations (200) reached and the optimization hasn't converged yet.\n",
            "  warnings.warn(\n"
          ]
        },
        {
          "output_type": "stream",
          "name": "stdout",
          "text": [
            "*** K-Fold Split Results ***\n",
            "{'0': {'precision': 0.9203980099502488, 'recall': 0.9213147410358565, 'f1-score': 0.9208561473369836, 'support': 1004}, '1': {'precision': 0.9213147410358565, 'recall': 0.9203980099502488, 'f1-score': 0.9208561473369836, 'support': 1005}, 'accuracy': 0.9208561473369836, 'macro avg': {'precision': 0.9208563754930527, 'recall': 0.9208563754930527, 'f1-score': 0.9208561473369836, 'support': 2009}, 'weighted avg': {'precision': 0.9208566036491218, 'recall': 0.9208561473369836, 'f1-score': 0.9208561473369836, 'support': 2009}}\n"
          ]
        },
        {
          "output_type": "stream",
          "name": "stderr",
          "text": [
            "/usr/local/lib/python3.10/dist-packages/sklearn/neural_network/_multilayer_perceptron.py:686: ConvergenceWarning: Stochastic Optimizer: Maximum iterations (200) reached and the optimization hasn't converged yet.\n",
            "  warnings.warn(\n"
          ]
        },
        {
          "output_type": "stream",
          "name": "stdout",
          "text": [
            "*** K-Fold Split Results ***\n",
            "{'0': {'precision': 0.9150197628458498, 'recall': 0.9223107569721115, 'f1-score': 0.9186507936507937, 'support': 1004}, '1': {'precision': 0.921765295887663, 'recall': 0.9144278606965174, 'f1-score': 0.9180819180819181, 'support': 1005}, 'accuracy': 0.9183673469387755, 'macro avg': {'precision': 0.9183925293667564, 'recall': 0.9183693088343144, 'f1-score': 0.918366355866356, 'support': 2009}, 'weighted avg': {'precision': 0.9183942081952885, 'recall': 0.9183673469387755, 'f1-score': 0.9183662142845817, 'support': 2009}}\n"
          ]
        },
        {
          "output_type": "stream",
          "name": "stderr",
          "text": [
            "/usr/local/lib/python3.10/dist-packages/sklearn/neural_network/_multilayer_perceptron.py:686: ConvergenceWarning: Stochastic Optimizer: Maximum iterations (200) reached and the optimization hasn't converged yet.\n",
            "  warnings.warn(\n"
          ]
        },
        {
          "output_type": "stream",
          "name": "stdout",
          "text": [
            "*** K-Fold Split Results ***\n",
            "{'0': {'precision': 0.916241062308478, 'recall': 0.8934262948207171, 'f1-score': 0.9046898638426626, 'support': 1004}, '1': {'precision': 0.8961165048543689, 'recall': 0.918407960199005, 'f1-score': 0.9071253071253071, 'support': 1005}, 'accuracy': 0.9059233449477352, 'macro avg': {'precision': 0.9061787835814235, 'recall': 0.905917127509861, 'f1-score': 0.9059075854839849, 'support': 2009}, 'weighted avg': {'precision': 0.9061737749807629, 'recall': 0.9059233449477352, 'f1-score': 0.905908191617206, 'support': 2009}}\n"
          ]
        },
        {
          "output_type": "stream",
          "name": "stderr",
          "text": [
            "/usr/local/lib/python3.10/dist-packages/sklearn/neural_network/_multilayer_perceptron.py:686: ConvergenceWarning: Stochastic Optimizer: Maximum iterations (200) reached and the optimization hasn't converged yet.\n",
            "  warnings.warn(\n"
          ]
        },
        {
          "output_type": "stream",
          "name": "stdout",
          "text": [
            "*** K-Fold Split Results ***\n",
            "{'0': {'precision': 0.9167502507522568, 'recall': 0.909452736318408, 'f1-score': 0.9130869130869131, 'support': 1005}, '1': {'precision': 0.910167818361303, 'recall': 0.9174129353233831, 'f1-score': 0.9137760158572844, 'support': 1005}, 'accuracy': 0.9134328358208955, 'macro avg': {'precision': 0.9134590345567799, 'recall': 0.9134328358208955, 'f1-score': 0.9134314644720988, 'support': 2010}, 'weighted avg': {'precision': 0.9134590345567798, 'recall': 0.9134328358208955, 'f1-score': 0.9134314644720988, 'support': 2010}}\n"
          ]
        },
        {
          "output_type": "stream",
          "name": "stderr",
          "text": [
            "/usr/local/lib/python3.10/dist-packages/sklearn/neural_network/_multilayer_perceptron.py:686: ConvergenceWarning: Stochastic Optimizer: Maximum iterations (200) reached and the optimization hasn't converged yet.\n",
            "  warnings.warn(\n"
          ]
        },
        {
          "output_type": "stream",
          "name": "stdout",
          "text": [
            "*** K-Fold Split Results ***\n",
            "{'0': {'precision': 0.9122983870967742, 'recall': 0.900497512437811, 'f1-score': 0.9063595393089634, 'support': 1005}, '1': {'precision': 0.9017681728880157, 'recall': 0.9134328358208955, 'f1-score': 0.907563025210084, 'support': 1005}, 'accuracy': 0.9069651741293532, 'macro avg': {'precision': 0.907033279992395, 'recall': 0.9069651741293532, 'f1-score': 0.9069612822595237, 'support': 2010}, 'weighted avg': {'precision': 0.9070332799923949, 'recall': 0.9069651741293532, 'f1-score': 0.9069612822595238, 'support': 2010}}\n"
          ]
        },
        {
          "output_type": "stream",
          "name": "stderr",
          "text": [
            "/usr/local/lib/python3.10/dist-packages/sklearn/neural_network/_multilayer_perceptron.py:686: ConvergenceWarning: Stochastic Optimizer: Maximum iterations (200) reached and the optimization hasn't converged yet.\n",
            "  warnings.warn(\n"
          ]
        },
        {
          "output_type": "stream",
          "name": "stdout",
          "text": [
            "*** K-Fold Split Results ***\n",
            "{'0': {'precision': 0.9241164241164241, 'recall': 0.8845771144278607, 'f1-score': 0.9039145907473309, 'support': 1005}, '1': {'precision': 0.8893129770992366, 'recall': 0.9273631840796019, 'f1-score': 0.9079396005845104, 'support': 1005}, 'accuracy': 0.9059701492537313, 'macro avg': {'precision': 0.9067147006078304, 'recall': 0.9059701492537313, 'f1-score': 0.9059270956659207, 'support': 2010}, 'weighted avg': {'precision': 0.9067147006078303, 'recall': 0.9059701492537313, 'f1-score': 0.9059270956659207, 'support': 2010}}\n"
          ]
        },
        {
          "output_type": "stream",
          "name": "stderr",
          "text": [
            "/usr/local/lib/python3.10/dist-packages/sklearn/neural_network/_multilayer_perceptron.py:686: ConvergenceWarning: Stochastic Optimizer: Maximum iterations (200) reached and the optimization hasn't converged yet.\n",
            "  warnings.warn(\n"
          ]
        },
        {
          "output_type": "stream",
          "name": "stdout",
          "text": [
            "*** K-Fold Split Results ***\n",
            "{'0': {'precision': 0.9193548387096774, 'recall': 0.9074626865671642, 'f1-score': 0.9133700550826239, 'support': 1005}, '1': {'precision': 0.9086444007858546, 'recall': 0.9203980099502488, 'f1-score': 0.9144834404349975, 'support': 1005}, 'accuracy': 0.9139303482587064, 'macro avg': {'precision': 0.913999619747766, 'recall': 0.9139303482587064, 'f1-score': 0.9139267477588107, 'support': 2010}, 'weighted avg': {'precision': 0.913999619747766, 'recall': 0.9139303482587064, 'f1-score': 0.9139267477588107, 'support': 2010}}\n"
          ]
        },
        {
          "output_type": "stream",
          "name": "stderr",
          "text": [
            "/usr/local/lib/python3.10/dist-packages/sklearn/neural_network/_multilayer_perceptron.py:686: ConvergenceWarning: Stochastic Optimizer: Maximum iterations (200) reached and the optimization hasn't converged yet.\n",
            "  warnings.warn(\n"
          ]
        },
        {
          "output_type": "stream",
          "name": "stdout",
          "text": [
            "*** K-Fold Split Results ***\n",
            "{'0': {'precision': 0.9182839632277835, 'recall': 0.8945273631840795, 'f1-score': 0.90625, 'support': 1005}, '1': {'precision': 0.8970873786407767, 'recall': 0.9203187250996016, 'f1-score': 0.9085545722713865, 'support': 1004}, 'accuracy': 0.90741662518666, 'macro avg': {'precision': 0.9076856709342801, 'recall': 0.9074230441418405, 'f1-score': 0.9074022861356932, 'support': 2009}, 'weighted avg': {'precision': 0.9076909463410963, 'recall': 0.90741662518666, 'f1-score': 0.9074017125736547, 'support': 2009}}\n"
          ]
        },
        {
          "output_type": "stream",
          "name": "stderr",
          "text": [
            "/usr/local/lib/python3.10/dist-packages/sklearn/neural_network/_multilayer_perceptron.py:686: ConvergenceWarning: Stochastic Optimizer: Maximum iterations (200) reached and the optimization hasn't converged yet.\n",
            "  warnings.warn(\n"
          ]
        },
        {
          "output_type": "stream",
          "name": "stdout",
          "text": [
            "*** K-Fold Split Results ***\n",
            "{'0': {'precision': 0.9195630585898709, 'recall': 0.9213930348258706, 'f1-score': 0.9204771371769384, 'support': 1005}, '1': {'precision': 0.9211576846307385, 'recall': 0.9193227091633466, 'f1-score': 0.9202392821535393, 'support': 1004}, 'accuracy': 0.920358387257342, 'macro avg': {'precision': 0.9203603716103047, 'recall': 0.9203578719946086, 'f1-score': 0.9203582096652388, 'support': 2009}, 'weighted avg': {'precision': 0.9203599747397122, 'recall': 0.920358387257342, 'f1-score': 0.9203582688626065, 'support': 2009}}\n"
          ]
        },
        {
          "output_type": "stream",
          "name": "stderr",
          "text": [
            "/usr/local/lib/python3.10/dist-packages/sklearn/neural_network/_multilayer_perceptron.py:686: ConvergenceWarning: Stochastic Optimizer: Maximum iterations (200) reached and the optimization hasn't converged yet.\n",
            "  warnings.warn(\n"
          ]
        },
        {
          "output_type": "stream",
          "name": "stdout",
          "text": [
            "*** K-Fold Split Results ***\n",
            "{'0': {'precision': 0.9223107569721115, 'recall': 0.9213930348258706, 'f1-score': 0.9218516674962668, 'support': 1005}, '1': {'precision': 0.9213930348258706, 'recall': 0.9223107569721115, 'f1-score': 0.9218516674962668, 'support': 1004}, 'accuracy': 0.9218516674962668, 'macro avg': {'precision': 0.9218518958989911, 'recall': 0.9218518958989911, 'f1-score': 0.9218516674962668, 'support': 2009}, 'weighted avg': {'precision': 0.9218521243017154, 'recall': 0.9218516674962668, 'f1-score': 0.9218516674962668, 'support': 2009}}\n"
          ]
        },
        {
          "output_type": "stream",
          "name": "stderr",
          "text": [
            "/usr/local/lib/python3.10/dist-packages/sklearn/neural_network/_multilayer_perceptron.py:686: ConvergenceWarning: Stochastic Optimizer: Maximum iterations (200) reached and the optimization hasn't converged yet.\n",
            "  warnings.warn(\n"
          ]
        },
        {
          "output_type": "stream",
          "name": "stdout",
          "text": [
            "*** K-Fold Split Results ***\n",
            "{'0': {'precision': 0.9201596806387226, 'recall': 0.9183266932270916, 'f1-score': 0.9192422731804586, 'support': 1004}, '1': {'precision': 0.9185700099304865, 'recall': 0.9203980099502488, 'f1-score': 0.9194831013916502, 'support': 1005}, 'accuracy': 0.9193628670980587, 'macro avg': {'precision': 0.9193648452846046, 'recall': 0.9193623515886702, 'f1-score': 0.9193626872860544, 'support': 2009}, 'weighted avg': {'precision': 0.9193644496472954, 'recall': 0.9193628670980587, 'f1-score': 0.9193627472233892, 'support': 2009}}\n"
          ]
        },
        {
          "output_type": "stream",
          "name": "stderr",
          "text": [
            "/usr/local/lib/python3.10/dist-packages/sklearn/neural_network/_multilayer_perceptron.py:686: ConvergenceWarning: Stochastic Optimizer: Maximum iterations (200) reached and the optimization hasn't converged yet.\n",
            "  warnings.warn(\n"
          ]
        },
        {
          "output_type": "stream",
          "name": "stdout",
          "text": [
            "*** K-Fold Split Results ***\n",
            "{'0': {'precision': 0.9152542372881356, 'recall': 0.9143426294820717, 'f1-score': 0.914798206278027, 'support': 1004}, '1': {'precision': 0.9145129224652088, 'recall': 0.9154228855721394, 'f1-score': 0.9149676777722527, 'support': 1005}, 'accuracy': 0.9148830263812843, 'macro avg': {'precision': 0.9148835798766721, 'recall': 0.9148827575271055, 'f1-score': 0.9148829420251399, 'support': 2009}, 'weighted avg': {'precision': 0.9148833953782096, 'recall': 0.9148830263812843, 'f1-score': 0.9148829842032121, 'support': 2009}}\n"
          ]
        },
        {
          "output_type": "stream",
          "name": "stderr",
          "text": [
            "/usr/local/lib/python3.10/dist-packages/sklearn/neural_network/_multilayer_perceptron.py:686: ConvergenceWarning: Stochastic Optimizer: Maximum iterations (200) reached and the optimization hasn't converged yet.\n",
            "  warnings.warn(\n"
          ]
        },
        {
          "output_type": "stream",
          "name": "stdout",
          "text": [
            "*** K-Fold Split Results ***\n",
            "{'0': {'precision': 0.9261133603238867, 'recall': 0.9113545816733067, 'f1-score': 0.9186746987951808, 'support': 1004}, '1': {'precision': 0.9128305582761999, 'recall': 0.9273631840796019, 'f1-score': 0.9200394866732478, 'support': 1005}, 'accuracy': 0.9193628670980587, 'macro avg': {'precision': 0.9194719593000433, 'recall': 0.9193588828764543, 'f1-score': 0.9193570927342143, 'support': 2009}, 'weighted avg': {'precision': 0.9194686534757406, 'recall': 0.9193628670980587, 'f1-score': 0.9193574324026758, 'support': 2009}}\n"
          ]
        }
      ]
    },
    {
      "cell_type": "code",
      "source": [
        "# calculate average metrics for submission\n",
        "import numpy\n",
        "final_dict = {}\n",
        "final_dict['0-precision'] = []\n",
        "final_dict['0-recall'] = []\n",
        "final_dict['0-f1'] = []\n",
        "final_dict['1-precision'] = []\n",
        "final_dict['1-recall'] = []\n",
        "final_dict['1-f1'] = []\n",
        "final_dict['accuracy'] = []\n",
        "\n",
        "for dictionary in classification_report_list:\n",
        "    for key, inner_dict in dictionary.items():\n",
        "        if key == '0':\n",
        "            for inner_key in inner_dict.keys():\n",
        "                if inner_key == \"precision\":\n",
        "                    final_dict['0-precision'].append(inner_dict['precision'])\n",
        "                if inner_key == \"recall\":\n",
        "                    final_dict['0-recall'].append(inner_dict['recall'])\n",
        "                if inner_key == \"f1-score\":\n",
        "                    final_dict['0-f1'].append(inner_dict['f1-score'])\n",
        "        if key == '1':\n",
        "            for inner_key in inner_dict.keys():\n",
        "                if inner_key == \"precision\":\n",
        "                    final_dict['1-precision'].append(inner_dict['precision'])\n",
        "                if inner_key == \"recall\":\n",
        "                    final_dict['1-recall'].append(inner_dict['recall'])\n",
        "                if inner_key == \"f1-score\":\n",
        "                    final_dict['1-f1'].append(inner_dict['f1-score'])\n",
        "        if key == \"accuracy\":\n",
        "            final_dict['accuracy'].append(dictionary['accuracy'])\n",
        "\n",
        "\n",
        "for key in final_dict.keys():\n",
        "    final_dict[key] = numpy.average(final_dict[key])\n",
        "\n",
        "print(\"******** VC FINAL DICT ********\")\n",
        "print(final_dict)"
      ],
      "metadata": {
        "id": "CjdpDaGrye_2",
        "colab": {
          "base_uri": "https://localhost:8080/"
        },
        "outputId": "7330ab63-72ef-4ac6-e346-36d78b5fee54"
      },
      "execution_count": 34,
      "outputs": [
        {
          "output_type": "stream",
          "name": "stdout",
          "text": [
            "******** VC FINAL DICT ********\n",
            "{'0-precision': 0.9190038995807038, '0-recall': 0.9085305543993182, '0-f1': 0.9136714284181721, '1-precision': 0.9097070513899418, '1-recall': 0.9198442383038328, '1-f1': 0.9146848038468979, 'accuracy': 0.9141871198181978}\n"
          ]
        }
      ]
    },
    {
      "cell_type": "code",
      "source": [
        "# classification report on CV with VotingClassifier\n",
        "import numpy as np\n",
        "from sklearn.model_selection import cross_validate, cross_val_predict\n",
        "from sklearn.model_selection import RepeatedStratifiedKFold\n",
        "from sklearn.ensemble import VotingClassifier\n",
        "from sklearn.svm import LinearSVC\n",
        "from sklearn.ensemble import RandomForestClassifier\n",
        "from sklearn.neural_network import MLPClassifier\n",
        "from sklearn.semi_supervised import SelfTrainingClassifier\n",
        "from sklearn.metrics import accuracy_score, f1_score, precision_score, recall_score, classification_report, make_scorer\n",
        "\n",
        "# define model\n",
        "model = MLPClassifier(hidden_layer_sizes=(20,10),random_state=42)\n",
        "\n",
        "classification_report_list = []\n",
        "# evaluate pipeline\n",
        "cv = RepeatedStratifiedKFold(n_splits=10, n_repeats=3, random_state=42)\n",
        "for train_index, test_index in cv.split(X, y):\n",
        "    x_train, x_test = np.array(X)[train_index], np.array(X)[test_index]\n",
        "    y_train, y_test = y[train_index], y[test_index]\n",
        "    model.fit(x_train, y_train)\n",
        "    y_pred = model.predict(x_test)\n",
        "    print(\"*** K-Fold Split Results ***\")\n",
        "    classification_report_results = classification_report(y_test, y_pred, output_dict=True)\n",
        "    print(classification_report_results)\n",
        "    classification_report_list.append(classification_report_results)"
      ],
      "metadata": {
        "colab": {
          "base_uri": "https://localhost:8080/"
        },
        "id": "vWEpTHj_YoTn",
        "outputId": "00817a7f-294d-414f-a356-d7df9730365e"
      },
      "execution_count": 29,
      "outputs": [
        {
          "output_type": "stream",
          "name": "stderr",
          "text": [
            "/usr/local/lib/python3.10/dist-packages/sklearn/neural_network/_multilayer_perceptron.py:686: ConvergenceWarning: Stochastic Optimizer: Maximum iterations (200) reached and the optimization hasn't converged yet.\n",
            "  warnings.warn(\n"
          ]
        },
        {
          "output_type": "stream",
          "name": "stdout",
          "text": [
            "*** K-Fold Split Results ***\n",
            "{'0': {'precision': 0.9164149043303121, 'recall': 0.9054726368159204, 'f1-score': 0.9109109109109109, 'support': 1005}, '1': {'precision': 0.9065880039331367, 'recall': 0.9174129353233831, 'f1-score': 0.9119683481701286, 'support': 1005}, 'accuracy': 0.9114427860696518, 'macro avg': {'precision': 0.9115014541317243, 'recall': 0.9114427860696517, 'f1-score': 0.9114396295405198, 'support': 2010}, 'weighted avg': {'precision': 0.9115014541317245, 'recall': 0.9114427860696518, 'f1-score': 0.9114396295405197, 'support': 2010}}\n"
          ]
        },
        {
          "output_type": "stream",
          "name": "stderr",
          "text": [
            "/usr/local/lib/python3.10/dist-packages/sklearn/neural_network/_multilayer_perceptron.py:686: ConvergenceWarning: Stochastic Optimizer: Maximum iterations (200) reached and the optimization hasn't converged yet.\n",
            "  warnings.warn(\n"
          ]
        },
        {
          "output_type": "stream",
          "name": "stdout",
          "text": [
            "*** K-Fold Split Results ***\n",
            "{'0': {'precision': 0.8903846153846153, 'recall': 0.9213930348258706, 'f1-score': 0.9056234718826406, 'support': 1005}, '1': {'precision': 0.9185567010309278, 'recall': 0.8865671641791045, 'f1-score': 0.9022784810126582, 'support': 1005}, 'accuracy': 0.9039800995024876, 'macro avg': {'precision': 0.9044706582077715, 'recall': 0.9039800995024876, 'f1-score': 0.9039509764476494, 'support': 2010}, 'weighted avg': {'precision': 0.9044706582077716, 'recall': 0.9039800995024876, 'f1-score': 0.9039509764476493, 'support': 2010}}\n",
            "*** K-Fold Split Results ***\n",
            "{'0': {'precision': 0.9132149901380671, 'recall': 0.9213930348258706, 'f1-score': 0.9172857850420999, 'support': 1005}, '1': {'precision': 0.9206827309236948, 'recall': 0.9124378109452737, 'f1-score': 0.9165417291354323, 'support': 1005}, 'accuracy': 0.9169154228855722, 'macro avg': {'precision': 0.9169488605308809, 'recall': 0.9169154228855722, 'f1-score': 0.9169137570887661, 'support': 2010}, 'weighted avg': {'precision': 0.9169488605308809, 'recall': 0.9169154228855722, 'f1-score': 0.9169137570887661, 'support': 2010}}\n"
          ]
        },
        {
          "output_type": "stream",
          "name": "stderr",
          "text": [
            "/usr/local/lib/python3.10/dist-packages/sklearn/neural_network/_multilayer_perceptron.py:686: ConvergenceWarning: Stochastic Optimizer: Maximum iterations (200) reached and the optimization hasn't converged yet.\n",
            "  warnings.warn(\n"
          ]
        },
        {
          "output_type": "stream",
          "name": "stdout",
          "text": [
            "*** K-Fold Split Results ***\n",
            "{'0': {'precision': 0.9024856596558317, 'recall': 0.9393034825870646, 'f1-score': 0.9205265724037054, 'support': 1005}, '1': {'precision': 0.9367219917012448, 'recall': 0.8985074626865671, 'f1-score': 0.9172168613509396, 'support': 1005}, 'accuracy': 0.9189054726368159, 'macro avg': {'precision': 0.9196038256785383, 'recall': 0.9189054726368159, 'f1-score': 0.9188717168773225, 'support': 2010}, 'weighted avg': {'precision': 0.9196038256785383, 'recall': 0.9189054726368159, 'f1-score': 0.9188717168773225, 'support': 2010}}\n"
          ]
        },
        {
          "output_type": "stream",
          "name": "stderr",
          "text": [
            "/usr/local/lib/python3.10/dist-packages/sklearn/neural_network/_multilayer_perceptron.py:686: ConvergenceWarning: Stochastic Optimizer: Maximum iterations (200) reached and the optimization hasn't converged yet.\n",
            "  warnings.warn(\n"
          ]
        },
        {
          "output_type": "stream",
          "name": "stdout",
          "text": [
            "*** K-Fold Split Results ***\n",
            "{'0': {'precision': 0.9150849150849151, 'recall': 0.9114427860696518, 'f1-score': 0.9132602193419741, 'support': 1005}, '1': {'precision': 0.9117063492063492, 'recall': 0.9153386454183267, 'f1-score': 0.9135188866799204, 'support': 1004}, 'accuracy': 0.9133897461423593, 'macro avg': {'precision': 0.9133956321456321, 'recall': 0.9133907157439892, 'f1-score': 0.9133895530109473, 'support': 2009}, 'weighted avg': {'precision': 0.9133964730032426, 'recall': 0.9133897461423593, 'f1-score': 0.91338948863381, 'support': 2009}}\n"
          ]
        },
        {
          "output_type": "stream",
          "name": "stderr",
          "text": [
            "/usr/local/lib/python3.10/dist-packages/sklearn/neural_network/_multilayer_perceptron.py:686: ConvergenceWarning: Stochastic Optimizer: Maximum iterations (200) reached and the optimization hasn't converged yet.\n",
            "  warnings.warn(\n"
          ]
        },
        {
          "output_type": "stream",
          "name": "stdout",
          "text": [
            "*** K-Fold Split Results ***\n",
            "{'0': {'precision': 0.9158415841584159, 'recall': 0.9203980099502488, 'f1-score': 0.9181141439205955, 'support': 1005}, '1': {'precision': 0.91991991991992, 'recall': 0.9153386454183267, 'f1-score': 0.9176235646530205, 'support': 1004}, 'accuracy': 0.9178695868591339, 'macro avg': {'precision': 0.9178807520391679, 'recall': 0.9178683276842877, 'f1-score': 0.9178688542868081, 'support': 2009}, 'weighted avg': {'precision': 0.9178797370228012, 'recall': 0.9178695868591339, 'f1-score': 0.9178689763821957, 'support': 2009}}\n"
          ]
        },
        {
          "output_type": "stream",
          "name": "stderr",
          "text": [
            "/usr/local/lib/python3.10/dist-packages/sklearn/neural_network/_multilayer_perceptron.py:686: ConvergenceWarning: Stochastic Optimizer: Maximum iterations (200) reached and the optimization hasn't converged yet.\n",
            "  warnings.warn(\n"
          ]
        },
        {
          "output_type": "stream",
          "name": "stdout",
          "text": [
            "*** K-Fold Split Results ***\n",
            "{'0': {'precision': 0.9110251450676983, 'recall': 0.9373134328358209, 'f1-score': 0.9239823442864149, 'support': 1005}, '1': {'precision': 0.9353846153846154, 'recall': 0.9083665338645418, 'f1-score': 0.921677614957049, 'support': 1004}, 'accuracy': 0.9228471876555501, 'macro avg': {'precision': 0.9232048802261568, 'recall': 0.9228399833501814, 'f1-score': 0.922829979621732, 'support': 2009}, 'weighted avg': {'precision': 0.9231988176402143, 'recall': 0.9228471876555501, 'f1-score': 0.9228305532228592, 'support': 2009}}\n",
            "*** K-Fold Split Results ***\n",
            "{'0': {'precision': 0.9007707129094412, 'recall': 0.9312749003984063, 'f1-score': 0.9157688540646425, 'support': 1004}, '1': {'precision': 0.9289392378990731, 'recall': 0.8975124378109453, 'f1-score': 0.9129554655870445, 'support': 1005}, 'accuracy': 0.9143852663016426, 'macro avg': {'precision': 0.9148549754042572, 'recall': 0.9143936691046758, 'f1-score': 0.9143621598258436, 'support': 2009}, 'weighted avg': {'precision': 0.9148619859878783, 'recall': 0.9143852663016426, 'f1-score': 0.9143614596296072, 'support': 2009}}\n"
          ]
        },
        {
          "output_type": "stream",
          "name": "stderr",
          "text": [
            "/usr/local/lib/python3.10/dist-packages/sklearn/neural_network/_multilayer_perceptron.py:686: ConvergenceWarning: Stochastic Optimizer: Maximum iterations (200) reached and the optimization hasn't converged yet.\n",
            "  warnings.warn(\n"
          ]
        },
        {
          "output_type": "stream",
          "name": "stdout",
          "text": [
            "*** K-Fold Split Results ***\n",
            "{'0': {'precision': 0.8990291262135922, 'recall': 0.9223107569721115, 'f1-score': 0.9105211406096362, 'support': 1004}, '1': {'precision': 0.9203268641470889, 'recall': 0.8965174129353234, 'f1-score': 0.9082661290322581, 'support': 1005}, 'accuracy': 0.9094076655052264, 'macro avg': {'precision': 0.9096779951803405, 'recall': 0.9094140849537174, 'f1-score': 0.9093936348209471, 'support': 2009}, 'weighted avg': {'precision': 0.9096832957622055, 'recall': 0.9094076655052264, 'f1-score': 0.9093930735935759, 'support': 2009}}\n"
          ]
        },
        {
          "output_type": "stream",
          "name": "stderr",
          "text": [
            "/usr/local/lib/python3.10/dist-packages/sklearn/neural_network/_multilayer_perceptron.py:686: ConvergenceWarning: Stochastic Optimizer: Maximum iterations (200) reached and the optimization hasn't converged yet.\n",
            "  warnings.warn(\n"
          ]
        },
        {
          "output_type": "stream",
          "name": "stdout",
          "text": [
            "*** K-Fold Split Results ***\n",
            "{'0': {'precision': 0.9115577889447236, 'recall': 0.9033864541832669, 'f1-score': 0.9074537268634316, 'support': 1004}, '1': {'precision': 0.9043392504930966, 'recall': 0.9124378109452737, 'f1-score': 0.9083704804358593, 'support': 1005}, 'accuracy': 0.9079143852663016, 'macro avg': {'precision': 0.9079485197189101, 'recall': 0.9079121325642703, 'f1-score': 0.9079121036496455, 'support': 2009}, 'weighted avg': {'precision': 0.9079467231687728, 'recall': 0.9079143852663016, 'f1-score': 0.907912331811311, 'support': 2009}}\n"
          ]
        },
        {
          "output_type": "stream",
          "name": "stderr",
          "text": [
            "/usr/local/lib/python3.10/dist-packages/sklearn/neural_network/_multilayer_perceptron.py:686: ConvergenceWarning: Stochastic Optimizer: Maximum iterations (200) reached and the optimization hasn't converged yet.\n",
            "  warnings.warn(\n"
          ]
        },
        {
          "output_type": "stream",
          "name": "stdout",
          "text": [
            "*** K-Fold Split Results ***\n",
            "{'0': {'precision': 0.9083743842364532, 'recall': 0.9174129353233831, 'f1-score': 0.9128712871287128, 'support': 1005}, '1': {'precision': 0.9165829145728643, 'recall': 0.9074626865671642, 'f1-score': 0.912, 'support': 1005}, 'accuracy': 0.9124378109452737, 'macro avg': {'precision': 0.9124786494046588, 'recall': 0.9124378109452737, 'f1-score': 0.9124356435643564, 'support': 2010}, 'weighted avg': {'precision': 0.9124786494046588, 'recall': 0.9124378109452737, 'f1-score': 0.9124356435643565, 'support': 2010}}\n"
          ]
        },
        {
          "output_type": "stream",
          "name": "stderr",
          "text": [
            "/usr/local/lib/python3.10/dist-packages/sklearn/neural_network/_multilayer_perceptron.py:686: ConvergenceWarning: Stochastic Optimizer: Maximum iterations (200) reached and the optimization hasn't converged yet.\n",
            "  warnings.warn(\n"
          ]
        },
        {
          "output_type": "stream",
          "name": "stdout",
          "text": [
            "*** K-Fold Split Results ***\n",
            "{'0': {'precision': 0.9119119119119119, 'recall': 0.9064676616915422, 'f1-score': 0.9091816367265468, 'support': 1005}, '1': {'precision': 0.9070227497527201, 'recall': 0.9124378109452737, 'f1-score': 0.9097222222222223, 'support': 1005}, 'accuracy': 0.909452736318408, 'macro avg': {'precision': 0.909467330832316, 'recall': 0.909452736318408, 'f1-score': 0.9094519294743846, 'support': 2010}, 'weighted avg': {'precision': 0.909467330832316, 'recall': 0.909452736318408, 'f1-score': 0.9094519294743845, 'support': 2010}}\n"
          ]
        },
        {
          "output_type": "stream",
          "name": "stderr",
          "text": [
            "/usr/local/lib/python3.10/dist-packages/sklearn/neural_network/_multilayer_perceptron.py:686: ConvergenceWarning: Stochastic Optimizer: Maximum iterations (200) reached and the optimization hasn't converged yet.\n",
            "  warnings.warn(\n"
          ]
        },
        {
          "output_type": "stream",
          "name": "stdout",
          "text": [
            "*** K-Fold Split Results ***\n",
            "{'0': {'precision': 0.9109792284866469, 'recall': 0.9164179104477612, 'f1-score': 0.9136904761904763, 'support': 1005}, '1': {'precision': 0.9159159159159159, 'recall': 0.9104477611940298, 'f1-score': 0.9131736526946108, 'support': 1005}, 'accuracy': 0.9134328358208955, 'macro avg': {'precision': 0.9134475722012814, 'recall': 0.9134328358208955, 'f1-score': 0.9134320644425435, 'support': 2010}, 'weighted avg': {'precision': 0.9134475722012814, 'recall': 0.9134328358208955, 'f1-score': 0.9134320644425435, 'support': 2010}}\n"
          ]
        },
        {
          "output_type": "stream",
          "name": "stderr",
          "text": [
            "/usr/local/lib/python3.10/dist-packages/sklearn/neural_network/_multilayer_perceptron.py:686: ConvergenceWarning: Stochastic Optimizer: Maximum iterations (200) reached and the optimization hasn't converged yet.\n",
            "  warnings.warn(\n"
          ]
        },
        {
          "output_type": "stream",
          "name": "stdout",
          "text": [
            "*** K-Fold Split Results ***\n",
            "{'0': {'precision': 0.8980769230769231, 'recall': 0.9293532338308458, 'f1-score': 0.9134474327628362, 'support': 1005}, '1': {'precision': 0.9268041237113402, 'recall': 0.8945273631840795, 'f1-score': 0.910379746835443, 'support': 1005}, 'accuracy': 0.9119402985074627, 'macro avg': {'precision': 0.9124405233941317, 'recall': 0.9119402985074627, 'f1-score': 0.9119135897991396, 'support': 2010}, 'weighted avg': {'precision': 0.9124405233941317, 'recall': 0.9119402985074627, 'f1-score': 0.9119135897991395, 'support': 2010}}\n"
          ]
        },
        {
          "output_type": "stream",
          "name": "stderr",
          "text": [
            "/usr/local/lib/python3.10/dist-packages/sklearn/neural_network/_multilayer_perceptron.py:686: ConvergenceWarning: Stochastic Optimizer: Maximum iterations (200) reached and the optimization hasn't converged yet.\n",
            "  warnings.warn(\n"
          ]
        },
        {
          "output_type": "stream",
          "name": "stdout",
          "text": [
            "*** K-Fold Split Results ***\n",
            "{'0': {'precision': 0.9104330708661418, 'recall': 0.9203980099502488, 'f1-score': 0.9153884215734786, 'support': 1005}, '1': {'precision': 0.919436052366566, 'recall': 0.9093625498007968, 'f1-score': 0.914371557336004, 'support': 1004}, 'accuracy': 0.9148830263812843, 'macro avg': {'precision': 0.9149345616163539, 'recall': 0.9148802798755228, 'f1-score': 0.9148799894547412, 'support': 2009}, 'weighted avg': {'precision': 0.9149323209539596, 'recall': 0.9148830263812843, 'f1-score': 0.9148802425319531, 'support': 2009}}\n"
          ]
        },
        {
          "output_type": "stream",
          "name": "stderr",
          "text": [
            "/usr/local/lib/python3.10/dist-packages/sklearn/neural_network/_multilayer_perceptron.py:686: ConvergenceWarning: Stochastic Optimizer: Maximum iterations (200) reached and the optimization hasn't converged yet.\n",
            "  warnings.warn(\n"
          ]
        },
        {
          "output_type": "stream",
          "name": "stdout",
          "text": [
            "*** K-Fold Split Results ***\n",
            "{'0': {'precision': 0.9067961165048544, 'recall': 0.9293532338308458, 'f1-score': 0.9179361179361178, 'support': 1005}, '1': {'precision': 0.9274770173646578, 'recall': 0.9043824701195219, 'f1-score': 0.9157841654059505, 'support': 1004}, 'accuracy': 0.9168740666998507, 'macro avg': {'precision': 0.9171365669347561, 'recall': 0.9168678519751838, 'f1-score': 0.9168601416710342, 'support': 2009}, 'weighted avg': {'precision': 0.9171314198713266, 'recall': 0.9168740666998507, 'f1-score': 0.9168606772490655, 'support': 2009}}\n"
          ]
        },
        {
          "output_type": "stream",
          "name": "stderr",
          "text": [
            "/usr/local/lib/python3.10/dist-packages/sklearn/neural_network/_multilayer_perceptron.py:686: ConvergenceWarning: Stochastic Optimizer: Maximum iterations (200) reached and the optimization hasn't converged yet.\n",
            "  warnings.warn(\n"
          ]
        },
        {
          "output_type": "stream",
          "name": "stdout",
          "text": [
            "*** K-Fold Split Results ***\n",
            "{'0': {'precision': 0.9185700099304865, 'recall': 0.9203980099502488, 'f1-score': 0.9194831013916502, 'support': 1005}, '1': {'precision': 0.9201596806387226, 'recall': 0.9183266932270916, 'f1-score': 0.9192422731804586, 'support': 1004}, 'accuracy': 0.9193628670980587, 'macro avg': {'precision': 0.9193648452846046, 'recall': 0.9193623515886702, 'f1-score': 0.9193626872860544, 'support': 2009}, 'weighted avg': {'precision': 0.9193644496472954, 'recall': 0.9193628670980587, 'f1-score': 0.9193627472233892, 'support': 2009}}\n"
          ]
        },
        {
          "output_type": "stream",
          "name": "stderr",
          "text": [
            "/usr/local/lib/python3.10/dist-packages/sklearn/neural_network/_multilayer_perceptron.py:686: ConvergenceWarning: Stochastic Optimizer: Maximum iterations (200) reached and the optimization hasn't converged yet.\n",
            "  warnings.warn(\n"
          ]
        },
        {
          "output_type": "stream",
          "name": "stdout",
          "text": [
            "*** K-Fold Split Results ***\n",
            "{'0': {'precision': 0.9109390125847048, 'recall': 0.9372509960159362, 'f1-score': 0.9239077074128621, 'support': 1004}, '1': {'precision': 0.9354508196721312, 'recall': 0.9084577114427861, 'f1-score': 0.9217566885411409, 'support': 1005}, 'accuracy': 0.9228471876555501, 'macro avg': {'precision': 0.923194916128418, 'recall': 0.9228543537293612, 'f1-score': 0.9228321979770016, 'support': 2009}, 'weighted avg': {'precision': 0.923201016627942, 'recall': 0.9228471876555501, 'f1-score': 0.9228316626313392, 'support': 2009}}\n"
          ]
        },
        {
          "output_type": "stream",
          "name": "stderr",
          "text": [
            "/usr/local/lib/python3.10/dist-packages/sklearn/neural_network/_multilayer_perceptron.py:686: ConvergenceWarning: Stochastic Optimizer: Maximum iterations (200) reached and the optimization hasn't converged yet.\n",
            "  warnings.warn(\n"
          ]
        },
        {
          "output_type": "stream",
          "name": "stdout",
          "text": [
            "*** K-Fold Split Results ***\n",
            "{'0': {'precision': 0.9133858267716536, 'recall': 0.9243027888446215, 'f1-score': 0.9188118811881189, 'support': 1004}, '1': {'precision': 0.9234642497482377, 'recall': 0.9124378109452737, 'f1-score': 0.9179179179179179, 'support': 1005}, 'accuracy': 0.9183673469387755, 'macro avg': {'precision': 0.9184250382599457, 'recall': 0.9183702998949476, 'f1-score': 0.9183648995530184, 'support': 2009}, 'weighted avg': {'precision': 0.9184275465782574, 'recall': 0.9183673469387755, 'f1-score': 0.9183646770634041, 'support': 2009}}\n"
          ]
        },
        {
          "output_type": "stream",
          "name": "stderr",
          "text": [
            "/usr/local/lib/python3.10/dist-packages/sklearn/neural_network/_multilayer_perceptron.py:686: ConvergenceWarning: Stochastic Optimizer: Maximum iterations (200) reached and the optimization hasn't converged yet.\n",
            "  warnings.warn(\n"
          ]
        },
        {
          "output_type": "stream",
          "name": "stdout",
          "text": [
            "*** K-Fold Split Results ***\n",
            "{'0': {'precision': 0.9175879396984925, 'recall': 0.9093625498007968, 'f1-score': 0.9134567283641822, 'support': 1004}, '1': {'precision': 0.9102564102564102, 'recall': 0.918407960199005, 'f1-score': 0.9143140168400199, 'support': 1005}, 'accuracy': 0.913887506222001, 'macro avg': {'precision': 0.9139221749774513, 'recall': 0.9138852549999008, 'f1-score': 0.913885372602101, 'support': 2009}, 'weighted avg': {'precision': 0.9139203503061119, 'recall': 0.913887506222001, 'f1-score': 0.9138855859640911, 'support': 2009}}\n"
          ]
        },
        {
          "output_type": "stream",
          "name": "stderr",
          "text": [
            "/usr/local/lib/python3.10/dist-packages/sklearn/neural_network/_multilayer_perceptron.py:686: ConvergenceWarning: Stochastic Optimizer: Maximum iterations (200) reached and the optimization hasn't converged yet.\n",
            "  warnings.warn(\n"
          ]
        },
        {
          "output_type": "stream",
          "name": "stdout",
          "text": [
            "*** K-Fold Split Results ***\n",
            "{'0': {'precision': 0.9067713444553483, 'recall': 0.9194029850746268, 'f1-score': 0.9130434782608694, 'support': 1005}, '1': {'precision': 0.9182643794147326, 'recall': 0.9054726368159204, 'f1-score': 0.9118236472945891, 'support': 1005}, 'accuracy': 0.9124378109452737, 'macro avg': {'precision': 0.9125178619350405, 'recall': 0.9124378109452735, 'f1-score': 0.9124335627777292, 'support': 2010}, 'weighted avg': {'precision': 0.9125178619350405, 'recall': 0.9124378109452737, 'f1-score': 0.9124335627777294, 'support': 2010}}\n"
          ]
        },
        {
          "output_type": "stream",
          "name": "stderr",
          "text": [
            "/usr/local/lib/python3.10/dist-packages/sklearn/neural_network/_multilayer_perceptron.py:686: ConvergenceWarning: Stochastic Optimizer: Maximum iterations (200) reached and the optimization hasn't converged yet.\n",
            "  warnings.warn(\n"
          ]
        },
        {
          "output_type": "stream",
          "name": "stdout",
          "text": [
            "*** K-Fold Split Results ***\n",
            "{'0': {'precision': 0.9073170731707317, 'recall': 0.9253731343283582, 'f1-score': 0.9162561576354681, 'support': 1005}, '1': {'precision': 0.9238578680203046, 'recall': 0.9054726368159204, 'f1-score': 0.9145728643216081, 'support': 1005}, 'accuracy': 0.9154228855721394, 'macro avg': {'precision': 0.9155874705955181, 'recall': 0.9154228855721394, 'f1-score': 0.9154145109785381, 'support': 2010}, 'weighted avg': {'precision': 0.9155874705955181, 'recall': 0.9154228855721394, 'f1-score': 0.915414510978538, 'support': 2010}}\n"
          ]
        },
        {
          "output_type": "stream",
          "name": "stderr",
          "text": [
            "/usr/local/lib/python3.10/dist-packages/sklearn/neural_network/_multilayer_perceptron.py:686: ConvergenceWarning: Stochastic Optimizer: Maximum iterations (200) reached and the optimization hasn't converged yet.\n",
            "  warnings.warn(\n"
          ]
        },
        {
          "output_type": "stream",
          "name": "stdout",
          "text": [
            "*** K-Fold Split Results ***\n",
            "{'0': {'precision': 0.916076845298281, 'recall': 0.9014925373134328, 'f1-score': 0.9087261785356068, 'support': 1005}, '1': {'precision': 0.9030362389813908, 'recall': 0.9174129353233831, 'f1-score': 0.9101678183613031, 'support': 1005}, 'accuracy': 0.909452736318408, 'macro avg': {'precision': 0.9095565421398359, 'recall': 0.909452736318408, 'f1-score': 0.909446998448455, 'support': 2010}, 'weighted avg': {'precision': 0.9095565421398359, 'recall': 0.909452736318408, 'f1-score': 0.9094469984484549, 'support': 2010}}\n"
          ]
        },
        {
          "output_type": "stream",
          "name": "stderr",
          "text": [
            "/usr/local/lib/python3.10/dist-packages/sklearn/neural_network/_multilayer_perceptron.py:686: ConvergenceWarning: Stochastic Optimizer: Maximum iterations (200) reached and the optimization hasn't converged yet.\n",
            "  warnings.warn(\n"
          ]
        },
        {
          "output_type": "stream",
          "name": "stdout",
          "text": [
            "*** K-Fold Split Results ***\n",
            "{'0': {'precision': 0.9086395233366436, 'recall': 0.9104477611940298, 'f1-score': 0.9095427435387673, 'support': 1005}, '1': {'precision': 0.9102691924227319, 'recall': 0.9084577114427861, 'f1-score': 0.9093625498007969, 'support': 1005}, 'accuracy': 0.909452736318408, 'macro avg': {'precision': 0.9094543578796876, 'recall': 0.909452736318408, 'f1-score': 0.9094526466697821, 'support': 2010}, 'weighted avg': {'precision': 0.9094543578796876, 'recall': 0.909452736318408, 'f1-score': 0.9094526466697822, 'support': 2010}}\n"
          ]
        },
        {
          "output_type": "stream",
          "name": "stderr",
          "text": [
            "/usr/local/lib/python3.10/dist-packages/sklearn/neural_network/_multilayer_perceptron.py:686: ConvergenceWarning: Stochastic Optimizer: Maximum iterations (200) reached and the optimization hasn't converged yet.\n",
            "  warnings.warn(\n"
          ]
        },
        {
          "output_type": "stream",
          "name": "stdout",
          "text": [
            "*** K-Fold Split Results ***\n",
            "{'0': {'precision': 0.920892494929006, 'recall': 0.9034825870646767, 'f1-score': 0.9121044701155198, 'support': 1005}, '1': {'precision': 0.9051808406647116, 'recall': 0.9223107569721115, 'f1-score': 0.9136655155402071, 'support': 1004}, 'accuracy': 0.9128919860627178, 'macro avg': {'precision': 0.9130366677968589, 'recall': 0.9128966720183941, 'f1-score': 0.9128849928278635, 'support': 2009}, 'weighted avg': {'precision': 0.9130405781139977, 'recall': 0.9128919860627178, 'f1-score': 0.912884604314816, 'support': 2009}}\n"
          ]
        },
        {
          "output_type": "stream",
          "name": "stderr",
          "text": [
            "/usr/local/lib/python3.10/dist-packages/sklearn/neural_network/_multilayer_perceptron.py:686: ConvergenceWarning: Stochastic Optimizer: Maximum iterations (200) reached and the optimization hasn't converged yet.\n",
            "  warnings.warn(\n"
          ]
        },
        {
          "output_type": "stream",
          "name": "stdout",
          "text": [
            "*** K-Fold Split Results ***\n",
            "{'0': {'precision': 0.9151873767258383, 'recall': 0.9233830845771144, 'f1-score': 0.9192669638434869, 'support': 1005}, '1': {'precision': 0.9226130653266331, 'recall': 0.9143426294820717, 'f1-score': 0.9184592296148073, 'support': 1004}, 'accuracy': 0.9188651070184172, 'macro avg': {'precision': 0.9189002210262357, 'recall': 0.918862857029593, 'f1-score': 0.9188630967291471, 'support': 2009}, 'weighted avg': {'precision': 0.918898372920561, 'recall': 0.9188651070184172, 'f1-score': 0.9188632977580741, 'support': 2009}}\n"
          ]
        },
        {
          "output_type": "stream",
          "name": "stderr",
          "text": [
            "/usr/local/lib/python3.10/dist-packages/sklearn/neural_network/_multilayer_perceptron.py:686: ConvergenceWarning: Stochastic Optimizer: Maximum iterations (200) reached and the optimization hasn't converged yet.\n",
            "  warnings.warn(\n"
          ]
        },
        {
          "output_type": "stream",
          "name": "stdout",
          "text": [
            "*** K-Fold Split Results ***\n",
            "{'0': {'precision': 0.9051724137931034, 'recall': 0.9402985074626866, 'f1-score': 0.9224011713030746, 'support': 1005}, '1': {'precision': 0.9378238341968912, 'recall': 0.901394422310757, 'f1-score': 0.9192483494159471, 'support': 1004}, 'accuracy': 0.9208561473369836, 'macro avg': {'precision': 0.9214981239949973, 'recall': 0.9208464648867218, 'f1-score': 0.9208247603595109, 'support': 2009}, 'weighted avg': {'precision': 0.921489997708187, 'recall': 0.9208561473369836, 'f1-score': 0.9208255450339478, 'support': 2009}}\n"
          ]
        },
        {
          "output_type": "stream",
          "name": "stderr",
          "text": [
            "/usr/local/lib/python3.10/dist-packages/sklearn/neural_network/_multilayer_perceptron.py:686: ConvergenceWarning: Stochastic Optimizer: Maximum iterations (200) reached and the optimization hasn't converged yet.\n",
            "  warnings.warn(\n"
          ]
        },
        {
          "output_type": "stream",
          "name": "stdout",
          "text": [
            "*** K-Fold Split Results ***\n",
            "{'0': {'precision': 0.8980769230769231, 'recall': 0.9302788844621513, 'f1-score': 0.913894324853229, 'support': 1004}, '1': {'precision': 0.9277605779153767, 'recall': 0.8945273631840795, 'f1-score': 0.9108409321175277, 'support': 1005}, 'accuracy': 0.9123942259830762, 'macro avg': {'precision': 0.9129187504961499, 'recall': 0.9124031238231154, 'f1-score': 0.9123676284853783, 'support': 2009}, 'weighted avg': {'precision': 0.9129261381653482, 'recall': 0.9123942259830762, 'f1-score': 0.9123668685568727, 'support': 2009}}\n"
          ]
        },
        {
          "output_type": "stream",
          "name": "stderr",
          "text": [
            "/usr/local/lib/python3.10/dist-packages/sklearn/neural_network/_multilayer_perceptron.py:686: ConvergenceWarning: Stochastic Optimizer: Maximum iterations (200) reached and the optimization hasn't converged yet.\n",
            "  warnings.warn(\n"
          ]
        },
        {
          "output_type": "stream",
          "name": "stdout",
          "text": [
            "*** K-Fold Split Results ***\n",
            "{'0': {'precision': 0.9083011583011583, 'recall': 0.9372509960159362, 'f1-score': 0.9225490196078432, 'support': 1004}, '1': {'precision': 0.935251798561151, 'recall': 0.9054726368159204, 'f1-score': 0.9201213346814964, 'support': 1005}, 'accuracy': 0.9213539074166252, 'macro avg': {'precision': 0.9217764784311546, 'recall': 0.9213618164159283, 'f1-score': 0.9213351771446698, 'support': 2009}, 'weighted avg': {'precision': 0.9217831859075759, 'recall': 0.9213539074166252, 'f1-score': 0.9213345729423487, 'support': 2009}}\n",
            "*** K-Fold Split Results ***\n",
            "{'0': {'precision': 0.9171656686626747, 'recall': 0.9153386454183267, 'f1-score': 0.9162512462612165, 'support': 1004}, '1': {'precision': 0.9155908639523337, 'recall': 0.9174129353233831, 'f1-score': 0.9165009940357853, 'support': 1005}, 'accuracy': 0.9163763066202091, 'macro avg': {'precision': 0.9163782663075042, 'recall': 0.9163757903708549, 'f1-score': 0.9163761201485009, 'support': 2009}, 'weighted avg': {'precision': 0.9163778743700451, 'recall': 0.9163763066202091, 'f1-score': 0.9163761823057369, 'support': 2009}}\n"
          ]
        },
        {
          "output_type": "stream",
          "name": "stderr",
          "text": [
            "/usr/local/lib/python3.10/dist-packages/sklearn/neural_network/_multilayer_perceptron.py:686: ConvergenceWarning: Stochastic Optimizer: Maximum iterations (200) reached and the optimization hasn't converged yet.\n",
            "  warnings.warn(\n"
          ]
        }
      ]
    },
    {
      "cell_type": "code",
      "source": [
        "# calculate average metrics for submission\n",
        "import numpy\n",
        "final_dict = {}\n",
        "final_dict['0-precision'] = []\n",
        "final_dict['0-recall'] = []\n",
        "final_dict['0-f1'] = []\n",
        "final_dict['1-precision'] = []\n",
        "final_dict['1-recall'] = []\n",
        "final_dict['1-f1'] = []\n",
        "final_dict['accuracy'] = []\n",
        "\n",
        "for dictionary in classification_report_list:\n",
        "    for key, inner_dict in dictionary.items():\n",
        "        if key == '0':\n",
        "            for inner_key in inner_dict.keys():\n",
        "                if inner_key == \"precision\":\n",
        "                    final_dict['0-precision'].append(inner_dict['precision'])\n",
        "                if inner_key == \"recall\":\n",
        "                    final_dict['0-recall'].append(inner_dict['recall'])\n",
        "                if inner_key == \"f1-score\":\n",
        "                    final_dict['0-f1'].append(inner_dict['f1-score'])\n",
        "        if key == '1':\n",
        "            for inner_key in inner_dict.keys():\n",
        "                if inner_key == \"precision\":\n",
        "                    final_dict['1-precision'].append(inner_dict['precision'])\n",
        "                if inner_key == \"recall\":\n",
        "                    final_dict['1-recall'].append(inner_dict['recall'])\n",
        "                if inner_key == \"f1-score\":\n",
        "                    final_dict['1-f1'].append(inner_dict['f1-score'])\n",
        "        if key == \"accuracy\":\n",
        "            final_dict['accuracy'].append(dictionary['accuracy'])\n",
        "\n",
        "\n",
        "for key in final_dict.keys():\n",
        "    final_dict[key] = numpy.average(final_dict[key])\n",
        "\n",
        "print(\"******** NN FINAL DICT ********\")\n",
        "print(final_dict)"
      ],
      "metadata": {
        "id": "88jzUGWpyi_0",
        "colab": {
          "base_uri": "https://localhost:8080/"
        },
        "outputId": "20280e48-a504-4920-b56a-3fe1140563b1"
      },
      "execution_count": 30,
      "outputs": [
        {
          "output_type": "stream",
          "name": "stdout",
          "text": [
            "******** NN FINAL DICT ********\n",
            "{'0-precision': 0.9095488229235198, '0-recall': 0.9210384994020602, '0-f1': 0.9151885904652037, '1-precision': 0.9201794752698322, '1-recall': 0.9082988113879474, '1-f1': 0.9141281012390716, 'accuracy': 0.9146682383668185}\n"
          ]
        }
      ]
    },
    {
      "cell_type": "code",
      "source": [
        "# classification report on CV with VotingClassifier\n",
        "import numpy as np\n",
        "from sklearn.model_selection import cross_validate, cross_val_predict\n",
        "from sklearn.model_selection import RepeatedStratifiedKFold\n",
        "from sklearn.ensemble import VotingClassifier\n",
        "from sklearn.svm import LinearSVC\n",
        "from sklearn.ensemble import RandomForestClassifier\n",
        "from sklearn.neural_network import MLPClassifier\n",
        "from sklearn.semi_supervised import SelfTrainingClassifier\n",
        "from sklearn.metrics import accuracy_score, f1_score, precision_score, recall_score, classification_report, make_scorer\n",
        "\n",
        "# define model\n",
        "model = RandomForestClassifier(random_state = 42)\n",
        "\n",
        "classification_report_list = []\n",
        "# evaluate pipeline\n",
        "cv = RepeatedStratifiedKFold(n_splits=10, n_repeats=3, random_state=42)\n",
        "for train_index, test_index in cv.split(X, y):\n",
        "    x_train, x_test = np.array(X)[train_index], np.array(X)[test_index]\n",
        "    y_train, y_test = y[train_index], y[test_index]\n",
        "    model.fit(x_train, y_train)\n",
        "    y_pred = model.predict(x_test)\n",
        "    print(\"*** K-Fold Split Results ***\")\n",
        "    classification_report_results = classification_report(y_test, y_pred, output_dict=True)\n",
        "    print(classification_report_results)\n",
        "    classification_report_list.append(classification_report_results)"
      ],
      "metadata": {
        "colab": {
          "base_uri": "https://localhost:8080/"
        },
        "id": "fJUyGNkwdo8C",
        "outputId": "63708afd-5985-40f9-a763-a13547989a3d"
      },
      "execution_count": 31,
      "outputs": [
        {
          "output_type": "stream",
          "name": "stdout",
          "text": [
            "*** K-Fold Split Results ***\n",
            "{'0': {'precision': 0.9104638619201726, 'recall': 0.8398009950248756, 'f1-score': 0.8737060041407867, 'support': 1005}, '1': {'precision': 0.8513388734995383, 'recall': 0.9174129353233831, 'f1-score': 0.8831417624521072, 'support': 1005}, 'accuracy': 0.8786069651741294, 'macro avg': {'precision': 0.8809013677098554, 'recall': 0.8786069651741293, 'f1-score': 0.8784238832964469, 'support': 2010}, 'weighted avg': {'precision': 0.8809013677098555, 'recall': 0.8786069651741294, 'f1-score': 0.8784238832964469, 'support': 2010}}\n",
            "*** K-Fold Split Results ***\n",
            "{'0': {'precision': 0.9114194236926361, 'recall': 0.8497512437810946, 'f1-score': 0.8795056642636457, 'support': 1005}, '1': {'precision': 0.8592730661696178, 'recall': 0.9174129353233831, 'f1-score': 0.8873917228103946, 'support': 1005}, 'accuracy': 0.8835820895522388, 'macro avg': {'precision': 0.8853462449311269, 'recall': 0.8835820895522388, 'f1-score': 0.8834486935370202, 'support': 2010}, 'weighted avg': {'precision': 0.8853462449311269, 'recall': 0.8835820895522388, 'f1-score': 0.8834486935370202, 'support': 2010}}\n",
            "*** K-Fold Split Results ***\n",
            "{'0': {'precision': 0.8973577235772358, 'recall': 0.8786069651741294, 'f1-score': 0.8878833584715937, 'support': 1005}, '1': {'precision': 0.8810916179337231, 'recall': 0.8995024875621891, 'f1-score': 0.8902018709995076, 'support': 1005}, 'accuracy': 0.8890547263681592, 'macro avg': {'precision': 0.8892246707554794, 'recall': 0.8890547263681592, 'f1-score': 0.8890426147355507, 'support': 2010}, 'weighted avg': {'precision': 0.8892246707554794, 'recall': 0.8890547263681592, 'f1-score': 0.8890426147355508, 'support': 2010}}\n",
            "*** K-Fold Split Results ***\n",
            "{'0': {'precision': 0.8963414634146342, 'recall': 0.8776119402985074, 'f1-score': 0.8868778280542986, 'support': 1005}, '1': {'precision': 0.8801169590643275, 'recall': 0.8985074626865671, 'f1-score': 0.8892171344165436, 'support': 1005}, 'accuracy': 0.8880597014925373, 'macro avg': {'precision': 0.8882292112394808, 'recall': 0.8880597014925373, 'f1-score': 0.8880474812354211, 'support': 2010}, 'weighted avg': {'precision': 0.8882292112394808, 'recall': 0.8880597014925373, 'f1-score': 0.888047481235421, 'support': 2010}}\n",
            "*** K-Fold Split Results ***\n",
            "{'0': {'precision': 0.9115426105717368, 'recall': 0.8407960199004975, 'f1-score': 0.8747412008281573, 'support': 1005}, '1': {'precision': 0.8521256931608133, 'recall': 0.9183266932270916, 'f1-score': 0.8839884947267497, 'support': 1004}, 'accuracy': 0.8795420607267297, 'macro avg': {'precision': 0.8818341518662751, 'recall': 0.8795613565637945, 'f1-score': 0.8793648477774535, 'support': 2009}, 'weighted avg': {'precision': 0.8818489395510463, 'recall': 0.8795420607267297, 'f1-score': 0.8793625463105798, 'support': 2009}}\n",
            "*** K-Fold Split Results ***\n",
            "{'0': {'precision': 0.9009193054136875, 'recall': 0.8776119402985074, 'f1-score': 0.8891129032258065, 'support': 1005}, '1': {'precision': 0.8805825242718447, 'recall': 0.9033864541832669, 'f1-score': 0.8918387413962635, 'support': 1004}, 'accuracy': 0.8904927824788452, 'macro avg': {'precision': 0.8907509148427661, 'recall': 0.8904991972408871, 'f1-score': 0.890475822311035, 'support': 2009}, 'weighted avg': {'precision': 0.8907559762616666, 'recall': 0.8904927824788452, 'f1-score': 0.8904751439043226, 'support': 2009}}\n",
            "*** K-Fold Split Results ***\n",
            "{'0': {'precision': 0.8980827447023209, 'recall': 0.8855721393034826, 'f1-score': 0.8917835671342684, 'support': 1005}, '1': {'precision': 0.8870333988212181, 'recall': 0.899402390438247, 'f1-score': 0.8931750741839762, 'support': 1004}, 'accuracy': 0.8924838227974117, 'macro avg': {'precision': 0.8925580717617695, 'recall': 0.8924872648708648, 'f1-score': 0.8924793206591224, 'support': 2009}, 'weighted avg': {'precision': 0.8925608217234124, 'recall': 0.8924838227974117, 'f1-score': 0.8924789743407925, 'support': 2009}}\n",
            "*** K-Fold Split Results ***\n",
            "{'0': {'precision': 0.895169578622816, 'recall': 0.8675298804780877, 'f1-score': 0.8811330298431967, 'support': 1004}, '1': {'precision': 0.8716216216216216, 'recall': 0.8985074626865671, 'f1-score': 0.8848603625673689, 'support': 1005}, 'accuracy': 0.883026381284221, 'macro avg': {'precision': 0.8833956001222187, 'recall': 0.8830186715823274, 'f1-score': 0.8829966962052829, 'support': 2009}, 'weighted avg': {'precision': 0.8833897395057426, 'recall': 0.883026381284221, 'f1-score': 0.8829976238639996, 'support': 2009}}\n",
            "*** K-Fold Split Results ***\n",
            "{'0': {'precision': 0.9029927760577915, 'recall': 0.8715139442231076, 'f1-score': 0.8869741510390269, 'support': 1004}, '1': {'precision': 0.8759615384615385, 'recall': 0.9064676616915422, 'f1-score': 0.8909535452322737, 'support': 1005}, 'accuracy': 0.8889995022399204, 'macro avg': {'precision': 0.8894771572596649, 'recall': 0.8889908029573249, 'f1-score': 0.8889638481356503, 'support': 2009}, 'weighted avg': {'precision': 0.8894704297241757, 'recall': 0.8889995022399204, 'f1-score': 0.8889648385274355, 'support': 2009}}\n",
            "*** K-Fold Split Results ***\n",
            "{'0': {'precision': 0.8984615384615384, 'recall': 0.8725099601593626, 'f1-score': 0.8852956038403235, 'support': 1004}, '1': {'precision': 0.8762088974854932, 'recall': 0.9014925373134328, 'f1-score': 0.8886709171162334, 'support': 1005}, 'accuracy': 0.8870084619213539, 'macro avg': {'precision': 0.8873352179735159, 'recall': 0.8870012487363976, 'f1-score': 0.8869832604782784, 'support': 2009}, 'weighted avg': {'precision': 0.8873296797353435, 'recall': 0.8870084619213539, 'f1-score': 0.886984100526381, 'support': 2009}}\n",
            "*** K-Fold Split Results ***\n",
            "{'0': {'precision': 0.8987730061349694, 'recall': 0.8746268656716418, 'f1-score': 0.886535552193646, 'support': 1005}, '1': {'precision': 0.877906976744186, 'recall': 0.9014925373134328, 'f1-score': 0.8895434462444771, 'support': 1005}, 'accuracy': 0.8880597014925373, 'macro avg': {'precision': 0.8883399914395778, 'recall': 0.8880597014925373, 'f1-score': 0.8880394992190616, 'support': 2010}, 'weighted avg': {'precision': 0.8883399914395778, 'recall': 0.8880597014925373, 'f1-score': 0.8880394992190617, 'support': 2010}}\n",
            "*** K-Fold Split Results ***\n",
            "{'0': {'precision': 0.9141949152542372, 'recall': 0.8587064676616916, 'f1-score': 0.8855823499230375, 'support': 1005}, '1': {'precision': 0.8667917448405253, 'recall': 0.9194029850746268, 'f1-score': 0.8923225494929985, 'support': 1005}, 'accuracy': 0.8890547263681592, 'macro avg': {'precision': 0.8904933300473813, 'recall': 0.8890547263681592, 'f1-score': 0.888952449708018, 'support': 2010}, 'weighted avg': {'precision': 0.8904933300473812, 'recall': 0.8890547263681592, 'f1-score': 0.888952449708018, 'support': 2010}}\n",
            "*** K-Fold Split Results ***\n",
            "{'0': {'precision': 0.9085106382978724, 'recall': 0.8497512437810946, 'f1-score': 0.8781491002570695, 'support': 1005}, '1': {'precision': 0.8588785046728972, 'recall': 0.9144278606965174, 'f1-score': 0.8857831325301204, 'support': 1005}, 'accuracy': 0.8820895522388059, 'macro avg': {'precision': 0.8836945714853848, 'recall': 0.8820895522388059, 'f1-score': 0.881966116393595, 'support': 2010}, 'weighted avg': {'precision': 0.8836945714853848, 'recall': 0.8820895522388059, 'f1-score': 0.881966116393595, 'support': 2010}}\n",
            "*** K-Fold Split Results ***\n",
            "{'0': {'precision': 0.9005025125628141, 'recall': 0.891542288557214, 'f1-score': 0.896, 'support': 1005}, '1': {'precision': 0.8926108374384236, 'recall': 0.9014925373134328, 'f1-score': 0.897029702970297, 'support': 1005}, 'accuracy': 0.8965174129353234, 'macro avg': {'precision': 0.8965566750006189, 'recall': 0.8965174129353234, 'f1-score': 0.8965148514851485, 'support': 2010}, 'weighted avg': {'precision': 0.8965566750006189, 'recall': 0.8965174129353234, 'f1-score': 0.8965148514851485, 'support': 2010}}\n",
            "*** K-Fold Split Results ***\n",
            "{'0': {'precision': 0.9069767441860465, 'recall': 0.8537313432835821, 'f1-score': 0.8795489492567914, 'support': 1005}, '1': {'precision': 0.8617121354656632, 'recall': 0.9123505976095617, 'f1-score': 0.8863086598935656, 'support': 1004}, 'accuracy': 0.883026381284221, 'macro avg': {'precision': 0.8843444398258549, 'recall': 0.8830409704465719, 'f1-score': 0.8829288045751784, 'support': 2009}, 'weighted avg': {'precision': 0.8843557052834756, 'recall': 0.883026381284221, 'f1-score': 0.882927122218126, 'support': 2009}}\n",
            "*** K-Fold Split Results ***\n",
            "{'0': {'precision': 0.9012605042016807, 'recall': 0.8537313432835821, 'f1-score': 0.8768523249872254, 'support': 1005}, '1': {'precision': 0.8609271523178808, 'recall': 0.9063745019920318, 'f1-score': 0.8830664725861231, 'support': 1004}, 'accuracy': 0.8800398208063713, 'macro avg': {'precision': 0.8810938282597807, 'recall': 0.880052922637807, 'f1-score': 0.8799593987866743, 'support': 2009}, 'weighted avg': {'precision': 0.8811038664260037, 'recall': 0.8800398208063713, 'f1-score': 0.8799578522093724, 'support': 2009}}\n",
            "*** K-Fold Split Results ***\n",
            "{'0': {'precision': 0.9042224510813595, 'recall': 0.8736318407960199, 'f1-score': 0.888663967611336, 'support': 1005}, '1': {'precision': 0.8776493256262042, 'recall': 0.9073705179282868, 'f1-score': 0.8922624877571008, 'support': 1004}, 'accuracy': 0.8904927824788452, 'macro avg': {'precision': 0.8909358883537819, 'recall': 0.8905011793621533, 'f1-score': 0.8904632276842184, 'support': 2009}, 'weighted avg': {'precision': 0.8909425018743032, 'recall': 0.8904927824788452, 'f1-score': 0.8904623320843813, 'support': 2009}}\n",
            "*** K-Fold Split Results ***\n",
            "{'0': {'precision': 0.9180672268907563, 'recall': 0.8705179282868526, 'f1-score': 0.8936605316973415, 'support': 1004}, '1': {'precision': 0.8770104068117314, 'recall': 0.9223880597014925, 'f1-score': 0.8991270611057226, 'support': 1005}, 'accuracy': 0.8964659034345446, 'macro avg': {'precision': 0.8975388168512438, 'recall': 0.8964529939941726, 'f1-score': 0.896393796401532, 'support': 2009}, 'weighted avg': {'precision': 0.8975285986282276, 'recall': 0.8964659034345446, 'f1-score': 0.8963951569115889, 'support': 2009}}\n",
            "*** K-Fold Split Results ***\n",
            "{'0': {'precision': 0.9002057613168725, 'recall': 0.8715139442231076, 'f1-score': 0.8856275303643725, 'support': 1004}, '1': {'precision': 0.875602700096432, 'recall': 0.9034825870646767, 'f1-score': 0.8893241919686582, 'support': 1005}, 'accuracy': 0.8875062220009955, 'macro avg': {'precision': 0.8879042307066523, 'recall': 0.8874982656438921, 'f1-score': 0.8874758611665153, 'support': 2009}, 'weighted avg': {'precision': 0.887898107495796, 'recall': 0.8875062220009955, 'f1-score': 0.8874767811918026, 'support': 2009}}\n",
            "*** K-Fold Split Results ***\n",
            "{'0': {'precision': 0.8980021030494216, 'recall': 0.850597609561753, 'f1-score': 0.8736572890025576, 'support': 1004}, '1': {'precision': 0.8582230623818525, 'recall': 0.9034825870646767, 'f1-score': 0.8802714493456133, 'support': 1005}, 'accuracy': 0.8770532603285216, 'macro avg': {'precision': 0.8781125827156371, 'recall': 0.8770400983132148, 'f1-score': 0.8769643691740854, 'support': 2009}, 'weighted avg': {'precision': 0.8781026825064117, 'recall': 0.8770532603285216, 'f1-score': 0.876966015306575, 'support': 2009}}\n",
            "*** K-Fold Split Results ***\n",
            "{'0': {'precision': 0.9132706374085684, 'recall': 0.8696517412935323, 'f1-score': 0.8909276248725789, 'support': 1005}, '1': {'precision': 0.8755935422602089, 'recall': 0.9174129353233831, 'f1-score': 0.8960155490767736, 'support': 1005}, 'accuracy': 0.8935323383084577, 'macro avg': {'precision': 0.8944320898343887, 'recall': 0.8935323383084577, 'f1-score': 0.8934715869746763, 'support': 2010}, 'weighted avg': {'precision': 0.8944320898343887, 'recall': 0.8935323383084577, 'f1-score': 0.8934715869746763, 'support': 2010}}\n",
            "*** K-Fold Split Results ***\n",
            "{'0': {'precision': 0.8974093264248705, 'recall': 0.8616915422885573, 'f1-score': 0.8791878172588833, 'support': 1005}, '1': {'precision': 0.8669856459330143, 'recall': 0.9014925373134328, 'f1-score': 0.8839024390243903, 'support': 1005}, 'accuracy': 0.881592039800995, 'macro avg': {'precision': 0.8821974861789423, 'recall': 0.8815920398009951, 'f1-score': 0.8815451281416368, 'support': 2010}, 'weighted avg': {'precision': 0.8821974861789424, 'recall': 0.881592039800995, 'f1-score': 0.8815451281416368, 'support': 2010}}\n",
            "*** K-Fold Split Results ***\n",
            "{'0': {'precision': 0.9005347593582887, 'recall': 0.8378109452736319, 'f1-score': 0.8680412371134021, 'support': 1005}, '1': {'precision': 0.8483720930232558, 'recall': 0.9074626865671642, 'f1-score': 0.8769230769230769, 'support': 1005}, 'accuracy': 0.872636815920398, 'macro avg': {'precision': 0.8744534261907723, 'recall': 0.8726368159203981, 'f1-score': 0.8724821570182395, 'support': 2010}, 'weighted avg': {'precision': 0.8744534261907723, 'recall': 0.872636815920398, 'f1-score': 0.8724821570182394, 'support': 2010}}\n",
            "*** K-Fold Split Results ***\n",
            "{'0': {'precision': 0.9045120671563484, 'recall': 0.8577114427860697, 'f1-score': 0.8804902962206332, 'support': 1005}, '1': {'precision': 0.8647114474929044, 'recall': 0.909452736318408, 'f1-score': 0.8865179437439379, 'support': 1005}, 'accuracy': 0.8835820895522388, 'macro avg': {'precision': 0.8846117573246264, 'recall': 0.8835820895522388, 'f1-score': 0.8835041199822855, 'support': 2010}, 'weighted avg': {'precision': 0.8846117573246264, 'recall': 0.8835820895522388, 'f1-score': 0.8835041199822856, 'support': 2010}}\n",
            "*** K-Fold Split Results ***\n",
            "{'0': {'precision': 0.9034627492130115, 'recall': 0.8567164179104477, 'f1-score': 0.8794688457609806, 'support': 1005}, '1': {'precision': 0.8636363636363636, 'recall': 0.9083665338645418, 'f1-score': 0.8854368932038835, 'support': 1004}, 'accuracy': 0.8825286212045794, 'macro avg': {'precision': 0.8835495564246876, 'recall': 0.8825414758874948, 'f1-score': 0.8824528694824321, 'support': 2009}, 'weighted avg': {'precision': 0.8835594684171159, 'recall': 0.8825286212045794, 'f1-score': 0.8824513841545468, 'support': 2009}}\n",
            "*** K-Fold Split Results ***\n",
            "{'0': {'precision': 0.8875739644970414, 'recall': 0.8955223880597015, 'f1-score': 0.8915304606240714, 'support': 1005}, '1': {'precision': 0.8944723618090452, 'recall': 0.8864541832669323, 'f1-score': 0.8904452226113057, 'support': 1004}, 'accuracy': 0.8909905425584869, 'macro avg': {'precision': 0.8910231631530433, 'recall': 0.8909882856633169, 'f1-score': 0.8909878416176885, 'support': 2009}, 'weighted avg': {'precision': 0.8910214462796455, 'recall': 0.8909905425584869, 'f1-score': 0.8909881117117684, 'support': 2009}}\n",
            "*** K-Fold Split Results ***\n",
            "{'0': {'precision': 0.9146341463414634, 'recall': 0.8955223880597015, 'f1-score': 0.9049773755656109, 'support': 1005}, '1': {'precision': 0.8975609756097561, 'recall': 0.9163346613545816, 'f1-score': 0.9068506653523903, 'support': 1004}, 'accuracy': 0.9059233449477352, 'macro avg': {'precision': 0.9060975609756098, 'recall': 0.9059285247071416, 'f1-score': 0.9059140204590006, 'support': 2009}, 'weighted avg': {'precision': 0.9061018101470214, 'recall': 0.9059233449477352, 'f1-score': 0.9059135542345639, 'support': 2009}}\n",
            "*** K-Fold Split Results ***\n",
            "{'0': {'precision': 0.9090909090909091, 'recall': 0.8665338645418327, 'f1-score': 0.887302396736359, 'support': 1004}, '1': {'precision': 0.8726235741444867, 'recall': 0.9134328358208955, 'f1-score': 0.8925619834710744, 'support': 1005}, 'accuracy': 0.8899950223992036, 'macro avg': {'precision': 0.8908572416176979, 'recall': 0.8899833501813641, 'f1-score': 0.8899321901037167, 'support': 2009}, 'weighted avg': {'precision': 0.8908481656259243, 'recall': 0.8899950223992036, 'f1-score': 0.8899334991098727, 'support': 2009}}\n",
            "*** K-Fold Split Results ***\n",
            "{'0': {'precision': 0.8996865203761756, 'recall': 0.8575697211155379, 'f1-score': 0.8781234064252933, 'support': 1004}, '1': {'precision': 0.8640684410646388, 'recall': 0.9044776119402985, 'f1-score': 0.8838113757899855, 'support': 1005}, 'accuracy': 0.8810353409656545, 'macro avg': {'precision': 0.8818774807204072, 'recall': 0.8810236665279182, 'f1-score': 0.8809673911076394, 'support': 2009}, 'weighted avg': {'precision': 0.8818686160914099, 'recall': 0.8810353409656545, 'f1-score': 0.8809688067296813, 'support': 2009}}\n",
            "*** K-Fold Split Results ***\n",
            "{'0': {'precision': 0.9040816326530612, 'recall': 0.8824701195219123, 'f1-score': 0.8931451612903225, 'support': 1004}, '1': {'precision': 0.8853255587949466, 'recall': 0.9064676616915422, 'f1-score': 0.895771878072763, 'support': 1005}, 'accuracy': 0.8944748631159781, 'macro avg': {'precision': 0.8947035957240039, 'recall': 0.8944688906067273, 'f1-score': 0.8944585196815428, 'support': 2009}, 'weighted avg': {'precision': 0.8946989277115951, 'recall': 0.8944748631159781, 'f1-score': 0.8944591734189202, 'support': 2009}}\n"
          ]
        }
      ]
    },
    {
      "cell_type": "code",
      "source": [
        "# calculate average metrics for submission\n",
        "import numpy\n",
        "final_dict = {}\n",
        "final_dict['0-precision'] = []\n",
        "final_dict['0-recall'] = []\n",
        "final_dict['0-f1'] = []\n",
        "final_dict['1-precision'] = []\n",
        "final_dict['1-recall'] = []\n",
        "final_dict['1-f1'] = []\n",
        "final_dict['accuracy'] = []\n",
        "\n",
        "for dictionary in classification_report_list:\n",
        "    for key, inner_dict in dictionary.items():\n",
        "        if key == '0':\n",
        "            for inner_key in inner_dict.keys():\n",
        "                if inner_key == \"precision\":\n",
        "                    final_dict['0-precision'].append(inner_dict['precision'])\n",
        "                if inner_key == \"recall\":\n",
        "                    final_dict['0-recall'].append(inner_dict['recall'])\n",
        "                if inner_key == \"f1-score\":\n",
        "                    final_dict['0-f1'].append(inner_dict['f1-score'])\n",
        "        if key == '1':\n",
        "            for inner_key in inner_dict.keys():\n",
        "                if inner_key == \"precision\":\n",
        "                    final_dict['1-precision'].append(inner_dict['precision'])\n",
        "                if inner_key == \"recall\":\n",
        "                    final_dict['1-recall'].append(inner_dict['recall'])\n",
        "                if inner_key == \"f1-score\":\n",
        "                    final_dict['1-f1'].append(inner_dict['f1-score'])\n",
        "        if key == \"accuracy\":\n",
        "            final_dict['accuracy'].append(dictionary['accuracy'])\n",
        "\n",
        "\n",
        "for key in final_dict.keys():\n",
        "    final_dict[key] = numpy.average(final_dict[key])\n",
        "\n",
        "print(\"******** RF FINAL DICT ********\")\n",
        "print(final_dict)"
      ],
      "metadata": {
        "id": "kgMutFZoytCk",
        "colab": {
          "base_uri": "https://localhost:8080/"
        },
        "outputId": "aa740833-c132-4a70-b1d1-85b0ba7adc42"
      },
      "execution_count": 32,
      "outputs": [
        {
          "output_type": "stream",
          "name": "stdout",
          "text": [
            "******** RF FINAL DICT ********\n",
            "{'0-precision': 0.9035907867310111, '0-recall': 0.8663618824866374, '0-f1': 0.8844828509334206, '1-precision': 0.8718672346884717, '1-recall': 0.9074679391885195, '1-f1': 0.8892238602355227, 'accuracy': 0.8869151092059199}\n"
          ]
        }
      ]
    }
  ],
  "metadata": {
    "accelerator": "GPU",
    "colab": {
      "provenance": [],
      "gpuType": "T4"
    },
    "kernelspec": {
      "display_name": "Python 3",
      "name": "python3"
    },
    "language_info": {
      "name": "python"
    }
  },
  "nbformat": 4,
  "nbformat_minor": 0
}
